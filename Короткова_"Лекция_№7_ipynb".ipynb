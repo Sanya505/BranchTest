{
  "nbformat": 4,
  "nbformat_minor": 0,
  "metadata": {
    "colab": {
      "provenance": [],
      "include_colab_link": true
    },
    "kernelspec": {
      "name": "python3",
      "display_name": "Python 3"
    },
    "language_info": {
      "name": "python"
    }
  },
  "cells": [
    {
      "cell_type": "markdown",
      "metadata": {
        "id": "view-in-github",
        "colab_type": "text"
      },
      "source": [
        "<a href=\"https://colab.research.google.com/github/Sanya505/BranchTest/blob/main/%D0%9A%D0%BE%D1%80%D0%BE%D1%82%D0%BA%D0%BE%D0%B2%D0%B0_%22%D0%9B%D0%B5%D0%BA%D1%86%D0%B8%D1%8F_%E2%84%967_ipynb%22.ipynb\" target=\"_parent\"><img src=\"https://colab.research.google.com/assets/colab-badge.svg\" alt=\"Open In Colab\"/></a>"
      ]
    },
    {
      "cell_type": "markdown",
      "metadata": {
        "id": "goKCGXSUoln1"
      },
      "source": [
        "<p><img src=\"\thttps://u.foxford.ngcdn.ru/uploads/inner_file/file/139299/Lec7.jpg\"></p>"
      ]
    },
    {
      "cell_type": "markdown",
      "metadata": {
        "id": "fTAUCMGRqM75"
      },
      "source": [
        "___\n",
        "\n",
        "<font color=\"#000000\">Основы Python и глубокого обучения</font>\n",
        "<font color=\"#AEBAC5\"> → </font>\n",
        "<font color=\"#AEBAC5\">Компьютерное зрение (CV)</font>\n",
        "<font color=\"#AEBAC5\"> → </font>\n",
        "<font color=\"#AEBAC5\">Обработка естественного языка (NLP)</font>\n",
        "\n",
        "___"
      ]
    },
    {
      "cell_type": "markdown",
      "metadata": {
        "id": "Na_TdPDaX0V3"
      },
      "source": [
        "<h1><strong><font color=\"#FF732B\">Функция с нуля или метод из библиотеки?</font></strong></h1>"
      ]
    },
    {
      "cell_type": "markdown",
      "metadata": {
        "id": "RQMVr5F8c_tG"
      },
      "source": [
        "<p><img src=\"https://u.foxford.ngcdn.ru/uploads/inner_file/file/99760/1.png\"></p>"
      ]
    },
    {
      "cell_type": "markdown",
      "metadata": {
        "id": "zxiyHaHVoZ6a"
      },
      "source": [
        "<p><img src=\"https://u.foxford.ngcdn.ru/uploads/inner_file/file/99784/2.png\"></p>"
      ]
    },
    {
      "cell_type": "markdown",
      "metadata": {
        "id": "NxuokSx_oaOi"
      },
      "source": [
        "<p><img src=\"https://u.foxford.ngcdn.ru/uploads/inner_file/file/99785/3.png\"></p>"
      ]
    },
    {
      "cell_type": "markdown",
      "metadata": {
        "id": "sJsLy54Dc8Ud"
      },
      "source": [
        "<h3><strong><font color=\"#809BFF\">Задача №1</font></strong></h3>\n",
        "\n",
        "Напиши функцию `calc_median`, которая вычислит медианное количество болельщиков на трибуне."
      ]
    },
    {
      "cell_type": "code",
      "metadata": {
        "id": "jfPTohSWc8ub"
      },
      "source": [
        "supporters = [28500, 49500, 32600, 30100, 25000, 57000]\n",
        "\n",
        "# твой код\n",
        "..."
      ],
      "execution_count": null,
      "outputs": []
    },
    {
      "cell_type": "markdown",
      "metadata": {
        "id": "H3obXNEGc9RI"
      },
      "source": [
        "<h3><strong><font color=\"#809BFF\">Задача №2</font></strong></h3>\n",
        "\n",
        "Импортируй библиотеку numpy и с помощью метода `.median()` вычисли медианное количество болельщиков на трибуне."
      ]
    },
    {
      "cell_type": "code",
      "metadata": {
        "id": "SZjELl7Tggo9"
      },
      "source": [
        "# импортируй библиотеку numpy"
      ],
      "execution_count": null,
      "outputs": []
    },
    {
      "cell_type": "code",
      "metadata": {
        "id": "WqaSdwYggx0a"
      },
      "source": [
        "# вычисли медиану"
      ],
      "execution_count": null,
      "outputs": []
    },
    {
      "cell_type": "markdown",
      "metadata": {
        "id": "V5fqY6dZVxEY"
      },
      "source": [
        "<h1><strong><font color=\"#FF732B\">Нейронное предсказание (прогнозирование)</font></strong></h1>"
      ]
    },
    {
      "cell_type": "markdown",
      "metadata": {
        "id": "Bm7eSDGbMmW1"
      },
      "source": [
        "<p><img src=\"https://u.foxford.ngcdn.ru/uploads/inner_file/file/98819/gg.gif\"></p>"
      ]
    },
    {
      "cell_type": "markdown",
      "metadata": {
        "id": "0IzE3otckLps"
      },
      "source": [
        "<p><img src=\"https://u.foxford.ngcdn.ru/uploads/inner_file/file/98946/giffycanvass.gif\"></p>"
      ]
    },
    {
      "cell_type": "markdown",
      "metadata": {
        "id": "8ekm6XZERtEz"
      },
      "source": [
        "<p><img src=\"https://u.foxford.ngcdn.ru/uploads/inner_file/file/98827/61.png\"></p>"
      ]
    },
    {
      "cell_type": "markdown",
      "metadata": {
        "id": "5WiAdBc3V-7x"
      },
      "source": [
        "<h3><strong><font color=\"#809BFF\">Задача №3</font></strong></h3>\n",
        "\n",
        "Напиши нейросеть `first_neural_network`, которая умножает входное значение на весовой коэффициент, чтобы предсказать вероятность победы спортивной команды.\n",
        "\n",
        "В качестве входного значения она принимает количество игр, которые игроки провели в этом составе ранее. Весовой коэффициент равен 0.12.\n",
        "\n",
        "Результат выводи в формате `Вероятность победы: ...%`, используя f-strings."
      ]
    },
    {
      "cell_type": "code",
      "metadata": {
        "id": "1CF8WOVHS7BE"
      },
      "source": [
        "number_of_games = ...\n",
        "weight = ..."
      ],
      "execution_count": null,
      "outputs": []
    },
    {
      "cell_type": "markdown",
      "metadata": {
        "id": "KtsZG1qre1L1"
      },
      "source": [
        "<p><img src=\"https://u.foxford.ngcdn.ru/uploads/inner_file/file/98995/63.png\"></p>"
      ]
    },
    {
      "cell_type": "markdown",
      "metadata": {
        "id": "PpPGF9YA71tu"
      },
      "source": [
        "<p><img src=\"https://u.foxford.ngcdn.ru/uploads/inner_file/file/99798/5.png\"></p>"
      ]
    },
    {
      "cell_type": "markdown",
      "metadata": {
        "id": "aeeM81PfZWG-"
      },
      "source": [
        "<h1><strong><font color=\"#FF732B\">Несколько входных данных</font></strong></h1>"
      ]
    },
    {
      "cell_type": "markdown",
      "metadata": {
        "id": "hFKqUD2wZlDV"
      },
      "source": [
        "<p><img src=\"https://u.foxford.ngcdn.ru/uploads/inner_file/file/100344/10.png\"></p>"
      ]
    },
    {
      "cell_type": "markdown",
      "metadata": {
        "id": "2d5ht4vDZ-Fd"
      },
      "source": [
        "<p><img src=\"https://u.foxford.ngcdn.ru/uploads/inner_file/file/100345/11.gif\"></p>"
      ]
    },
    {
      "cell_type": "markdown",
      "metadata": {
        "id": "tFCYNOP4aCQx"
      },
      "source": [
        "<p><img src=\"https://u.foxford.ngcdn.ru/uploads/inner_file/file/100346/12.png\"></p>"
      ]
    },
    {
      "cell_type": "markdown",
      "metadata": {
        "id": "toXHuqXbaP-x"
      },
      "source": [
        "<h3><strong><font color=\"#809BFF\">Задача №4</font></strong></h3>\n",
        "\n",
        "Напиши нейросеть `neural_network_w()` (w — weighted), которая будет принимать вектор, соответствующий статистике перед первой игрой, перемножать его на вектор из весовых коэффициентов и возвращать прогноз.\n",
        "\n",
        "Результат выводи в формате `Вероятность победы: ...%`, используя f-strings."
      ]
    },
    {
      "cell_type": "markdown",
      "metadata": {
        "id": "ZYD20UheaXXL"
      },
      "source": [
        "<p><img src=\"https://u.foxford.ngcdn.ru/uploads/inner_file/file/100348/13.gif\"></p>"
      ]
    },
    {
      "cell_type": "code",
      "metadata": {
        "id": "-_d0e1LCaauj"
      },
      "source": [
        "# весовые коэффициенты\n",
        "weights = [0.12, 0, 0.2]\n",
        "\n",
        "# векторы прогнозирующих признаков\n",
        "number_of_games = [7, 6, 8, 9, 9]\n",
        "number_of_victories = [6, 5, 6, 7, 7]\n",
        "number_of_fans = [0.07, 0.16, 0.05, 0.81, 0.22]\n",
        "\n",
        "# статистика перед первой игрой\n",
        "input_data = ...\n",
        "\n",
        "# напиши нейросеть\n",
        "\n",
        "# присвой результат в переменную prediction и напечатай его"
      ],
      "execution_count": null,
      "outputs": []
    },
    {
      "cell_type": "markdown",
      "metadata": {
        "id": "bSAA-JeU3up5"
      },
      "source": [
        "<h1><strong><font color=\"#FF732B\">Бонус: новый Покемон с помощью параметрического обучения без учителя (GPT-2)</font></strong></h1>"
      ]
    },
    {
      "cell_type": "markdown",
      "metadata": {
        "id": "A3YoRZP8rYK3"
      },
      "source": [
        "<p><img src=\"https://u.foxford.ngcdn.ru/uploads/inner_file/file/99990/8.png\"></p>"
      ]
    },
    {
      "cell_type": "markdown",
      "metadata": {
        "id": "g3Ctfs-orYSb"
      },
      "source": [
        "<p><img src=\"https://u.foxford.ngcdn.ru/uploads/inner_file/file/99992/9.png\"></p>"
      ]
    },
    {
      "cell_type": "markdown",
      "metadata": {
        "id": "gAkVsXIol151"
      },
      "source": [
        "<p><img src=\"https://u.foxford.ngcdn.ru/uploads/inner_file/file/99973/7.png\"></p>"
      ]
    },
    {
      "cell_type": "markdown",
      "metadata": {
        "id": "ZPdxmzVNeozw"
      },
      "source": [
        "<p><img src=\"https://u.foxford.ngcdn.ru/uploads/inner_file/file/99966/6.png\"></p>"
      ]
    },
    {
      "cell_type": "markdown",
      "metadata": {
        "id": "cCV5tFV9emN_"
      },
      "source": [
        "Ссылка на [оригинальный проект](https://colab.research.google.com/drive/1qgt8cSwKF957PgPTKhRcNwDIfWrMhbV9?usp=sharing) Мэтью Рэйфилда на английском языке."
      ]
    },
    {
      "cell_type": "markdown",
      "metadata": {
        "id": "i7KImah_EBVy"
      },
      "source": [
        "<h1><strong><font color=\"#FC4262\">Домашняя работа</font></strong></h1>"
      ]
    },
    {
      "cell_type": "markdown",
      "metadata": {
        "id": "BdNn502i2vTz"
      },
      "source": [
        "Вот несколько шагов, чтобы настроить удобную работу над домашними задачами:\n",
        "\n",
        "1. В сервисе [Google Drive](https://www.google.com/intl/ru/drive/) создай папку `foxford_ds_study` (если еще этого не сделал), в которой ты будешь хранить все учебные материалы с этого курса.\n",
        "2. Сохрани копию этой тетрадки `Лекция №6.ipynb` *(File → Save a copy in Drive)* в папку `foxford_ds_study`.\n",
        "\n",
        "Зачем это нужно?\n",
        "\n",
        "Файл, в котором работает преподаватель — это «оригинальный» файл и мы не можем работать в нем все вместе, ведь у каждого свой код! Каждому ученику необходимо сделать свою копию файла и выполнять домашку именно в ней. Если хочешь, ты можешь назвать свой файл по имени, например, `Лекция №6 Иван Кнопочкин.ipynb`.\n",
        "\n",
        "В начале следующей лекции мы обсудим эти задачи вместе."
      ]
    },
    {
      "cell_type": "markdown",
      "metadata": {
        "id": "gdTGJhGhFs9U"
      },
      "source": [
        "<h3><strong><font color=\"#809BFF\">Задача №5</font></strong></h3>\n",
        "\n",
        "Напиши нейросеть (код должен быть представлен в виде функции), которая умножает входное значение на весовой коэффициент, чтобы предсказать будет ли сегодня дождь.\n",
        "\n",
        "В качестве входного значения нейросеть принимает температуру -9. Весовой коэффициент равен 9.8.\n",
        "\n",
        "Результат выводи в формате `Вероятность дождя сегодня: ...%`, используя f-strings.\n",
        "\n",
        "Когда закончишь, пофантазируй как можно было бы доработать такую нейросеть! Например, если на входе отрицательная температура, то пускай вероятность вообще не вычисляется, а на экране печатается `Дождя сегодня точно не будет. Температура отрицательная!`."
      ]
    },
    {
      "cell_type": "code",
      "metadata": {
        "id": "weKHsu5CF7kd"
      },
      "source": [
        "# твой код"
      ],
      "execution_count": null,
      "outputs": []
    },
    {
      "cell_type": "markdown",
      "metadata": {
        "id": "FZGi7PitYsYB"
      },
      "source": [
        "<h3><strong><font color=\"#809BFF\">Задача №6</font></strong></h3>\n",
        "\n",
        "Познакомься с *параметрическим обучением без учителя* на деле и создай своего Покемона! Код ниже уже настроен, нужно только выполнить его."
      ]
    },
    {
      "cell_type": "markdown",
      "metadata": {
        "id": "Y-Q8K6c8sxSH"
      },
      "source": [
        "**Шаг №1. Настройка**\n",
        "\n",
        "Для начала импортируем все нужные модули — для этого также нажми кнопку Play слева от кода. Нужно будет немного подождать."
      ]
    },
    {
      "cell_type": "code",
      "metadata": {
        "id": "XAXnSTdCxsrB"
      },
      "source": [
        "%tensorflow_version 1.x\n",
        "!pip install -q gpt-2-simple\n",
        "import gpt_2_simple as gpt2\n",
        "from datetime import datetime\n",
        "from google.colab import files, drive\n",
        "\n",
        "import os\n",
        "import sys\n",
        "import time\n",
        "import re\n",
        "import gpt_2_simple as gpt2\n",
        "import shutil\n",
        "import math\n",
        "from PIL import Image"
      ],
      "execution_count": null,
      "outputs": []
    },
    {
      "cell_type": "markdown",
      "metadata": {
        "id": "MXpph727tGwU"
      },
      "source": [
        "**Шаг №2. Подключаем Google Drive**\n",
        "\n",
        "Нажми на кнопку Play и тогда появится ссылка. Пройди по ней, чтобы зайти в аккаунт Google, скопируй код и вставь в поле «Enter your authorization code»."
      ]
    },
    {
      "cell_type": "code",
      "metadata": {
        "id": "xHvjarGsx22G"
      },
      "source": [
        "drive.mount('/content/drive')"
      ],
      "execution_count": null,
      "outputs": []
    },
    {
      "cell_type": "markdown",
      "metadata": {
        "id": "ueRO075-tQsz"
      },
      "source": [
        "**Шаг №3. Скачиваем тренировочный набор данных с Покемонами**\n",
        "\n",
        "Автор проекта Мэтью Рэйфилд уже подготовил Покемонов, на которых нейросеть будет обучаться, поэтому нам нужно только скачать их. Для этого также нажми на кнопку Play (загрузка может занять 10-15 минут)."
      ]
    },
    {
      "cell_type": "code",
      "metadata": {
        "id": "N5Lvs3tpxuyg"
      },
      "source": [
        "!cd /content\n",
        "!wget -O \"pokemon-gpt-2-multigen-250000.zip\" \"https://ipfs.io/ipfs/QmRjkH2szrkez3QaHUKPM1jr3aHnJyN11JpcoRM2EwFHdQ\"\n",
        "!mkdir -p checkpoint\n",
        "!unzip \"pokemon-gpt-2-multigen-250000.zip\" -d checkpoint\n",
        "\n",
        "run_name = 'pokemon-gpt-2-multigen-250000'"
      ],
      "execution_count": null,
      "outputs": []
    },
    {
      "cell_type": "markdown",
      "metadata": {
        "id": "fFi8g3J4tgYX"
      },
      "source": [
        "**Шаг №4. Создаем Покича!**\n",
        "\n",
        "Теперь мы наконец-то создадим нового Покемона и сохраним его в сервис Google Drive в папку `pokemon-gpt-2`. На это потребуется некоторое время, а пока ты можешь открыть свой [Google Drive](https://drive.google.com) — Покемон будет там.\n",
        "\n",
        "По умолчанию мы выставили создание одного единственного Покемона, но в следующий раз ты сможешь назначить свое количество в настройках справа (только перед этим отчисти результат прошлого выполнения кода (*Runtime → Restart Runtime*).\n",
        "\n",
        "Если тебе понравится твой Покемон, то обязательно пришли на него ссылку в чат на следующем занятии. Посмотрим вместе что получилось!"
      ]
    },
    {
      "cell_type": "code",
      "metadata": {
        "id": "I3QxpOMpxwFU"
      },
      "source": [
        "output_folder = 'pokemon-gpt-2' #@param {type:\"string\"}\n",
        "generate_count =  1 #@param {type:\"integer\"}\n",
        "temperature = 1.01 #@param {type:\"slider\", min:0.7, max:1.3, step:0.01}\n",
        "width = 64 #@param {type:\"integer\"}\n",
        "height = 64 #@param {type:\"integer\"}\n",
        "save_texts = False #@param {type:\"boolean\"}\n",
        "\n",
        "def createImage(text, path):\n",
        "    lines = text.split('\\n')\n",
        "\n",
        "    imageWidth = 0\n",
        "    imageHeight = 0\n",
        "\n",
        "    for line in lines:\n",
        "        split = line.split(' ')\n",
        "\n",
        "        marker = split[0]\n",
        "        match = re.search(\"^([0-9]+)([du])$\", marker)\n",
        "\n",
        "        if match:\n",
        "            groups = match.groups()\n",
        "            index = int(groups[0])\n",
        "\n",
        "            width = len(split) - 1\n",
        "            height = index + 1\n",
        "\n",
        "            if width > imageWidth:\n",
        "                imageWidth = width;\n",
        "\n",
        "            if height > imageHeight:\n",
        "                imageHeight = height\n",
        "\n",
        "    pixels = []\n",
        "    for y in range(imageHeight):\n",
        "        for x in range(imageWidth):\n",
        "            pixels.append((0, 0, 0, 0))\n",
        "\n",
        "    for line in lines:\n",
        "        split = line.split(' ')\n",
        "\n",
        "        marker = split[0]\n",
        "        match = re.search(\"^([0-9]+)([du])$\", marker)\n",
        "\n",
        "        if match:\n",
        "            groups = match.groups()\n",
        "            index = int(groups[0])\n",
        "\n",
        "            for x in range(len(split) - 1):\n",
        "                s = split[x + 1]\n",
        "\n",
        "                if s != '~':\n",
        "                    r = 0\n",
        "                    g = 0\n",
        "                    b = 0\n",
        "\n",
        "                    if s == 'a':\n",
        "                        r = g = b = 107\n",
        "                    elif s == 'b':\n",
        "                        r = g = b = 187\n",
        "                    else:\n",
        "                        c = ord(s[0]) - 33\n",
        "\n",
        "                        b = (c & 3) * 64\n",
        "                        if b == 192:\n",
        "                            b += 63\n",
        "\n",
        "                        c = c >> 2\n",
        "                        g = (c & 3) * 64\n",
        "                        if g == 192:\n",
        "                            g += 63\n",
        "\n",
        "                        c = c >> 2\n",
        "                        r = (c & 3) * 64\n",
        "                        if r == 192:\n",
        "                            r += 63\n",
        "\n",
        "                    i = (index * imageWidth) + x\n",
        "\n",
        "                    pixels[i] = (r, g, b, 255)\n",
        "\n",
        "    image = Image.new('RGBA', (imageWidth, imageHeight))\n",
        "    image.putdata(pixels)\n",
        "    image.save(path)\n",
        "\n",
        "def blankLines():\n",
        "    lines = []\n",
        "\n",
        "    for i in range(0, height):\n",
        "        lines.append('')\n",
        "\n",
        "    return lines\n",
        "\n",
        "sess = None\n",
        "\n",
        "for ii in range(0, generate_count):\n",
        "    print(ii)\n",
        "\n",
        "    if not sess:\n",
        "        sess = gpt2.start_tf_sess()\n",
        "    else:\n",
        "        sess = gpt2.reset_session(sess)\n",
        "\n",
        "    gpt2.load_gpt2(sess, run_name=run_name)\n",
        "\n",
        "    lines = blankLines()\n",
        "    prefix = ''\n",
        "    hasColor = False\n",
        "\n",
        "    while True:\n",
        "        text = gpt2.generate(sess, run_name=run_name, prefix=prefix, temperature=temperature, return_as_list=True)[0]\n",
        "\n",
        "        print('\\n\\noutput:');\n",
        "        print(text)\n",
        "\n",
        "        newLines = text.split('\\n')\n",
        "\n",
        "        direction = None\n",
        "        lastIndex = None\n",
        "        for line in newLines:\n",
        "                split = line.split(' ')[:width + 2]\n",
        "\n",
        "                if len(split) < 55:\n",
        "                    break;\n",
        "\n",
        "                marker = split[0]\n",
        "                match = re.search(\"^([0-9]+)([du])$\", marker)\n",
        "\n",
        "                if match:\n",
        "                    groups = match.groups()\n",
        "\n",
        "                    try:\n",
        "                        index = int(groups[0])\n",
        "                    except:\n",
        "                        break\n",
        "\n",
        "                    if direction == None:\n",
        "                        direction = groups[1]\n",
        "\n",
        "                    if groups[1] != direction:\n",
        "                        print('direction changed')\n",
        "                        break\n",
        "\n",
        "                    if lastIndex != None:\n",
        "                        if groups[1] == 'd' and index <= lastIndex:\n",
        "                            print('bad line order')\n",
        "                            break\n",
        "                        elif groups[1] == 'u' and index >= lastIndex:\n",
        "                            print('bad line order')\n",
        "                            break\n",
        "                    lastIndex = index\n",
        "\n",
        "                    split[0] = marker.replace('u', 'd')\n",
        "\n",
        "                    if not hasColor:\n",
        "                        for character in split[2:]:\n",
        "                            if character != '~' and character != '`':\n",
        "                                hasColor = True\n",
        "                                break\n",
        "\n",
        "                    while len(split) < width:\n",
        "                        split.append('~')\n",
        "\n",
        "                    try:\n",
        "                        lines[index] = ' '.join(split)\n",
        "                    except IndexError:\n",
        "                        break\n",
        "\n",
        "        if not hasColor:\n",
        "            print('no color')\n",
        "            lines = blankLines()\n",
        "            continue\n",
        "\n",
        "        topIndex = None\n",
        "        for i in range(0, height):\n",
        "            if lines[i]:\n",
        "                topIndex = i\n",
        "                break\n",
        "\n",
        "        bottomIndex = None\n",
        "        for i in range(topIndex, height):\n",
        "            if lines[i]:\n",
        "                bottomIndex = i\n",
        "            else:\n",
        "                break\n",
        "\n",
        "        print('\\n\\ntop %i bottom %i' % (topIndex, bottomIndex))\n",
        "\n",
        "        sectionSize = 5\n",
        "        if topIndex > 0:\n",
        "            section = lines[topIndex:min(topIndex+sectionSize+1, bottomIndex+1)]\n",
        "            section.reverse()\n",
        "            for i in range(0, len(section)):\n",
        "                section[i] = section[i].replace('d', 'u')\n",
        "\n",
        "        elif bottomIndex < height - 1:\n",
        "            section = lines[max(bottomIndex-sectionSize, topIndex):bottomIndex+1]\n",
        "\n",
        "        else:\n",
        "            print('\\n'.join(lines))\n",
        "            filename = '%i' % int(time.time())\n",
        "            text = '\\n'.join(lines)\n",
        "\n",
        "            if not os.path.exists('/content/drive/My Drive/%s' % output_folder):\n",
        "                os.makedirs('/content/drive/My Drive/%s' % output_folder)\n",
        "\n",
        "            if save_texts:\n",
        "                text_file = open('/content/drive/My Drive/%s/%s.txt' % (output_folder, filename), 'w')\n",
        "                text_file.write(text)\n",
        "                text_file.close()\n",
        "\n",
        "            createImage(text, '/content/drive/My Drive/%s/%s.png' % (output_folder, filename))\n",
        "\n",
        "            print('saved !')\n",
        "            break\n",
        "\n",
        "        prefix = '\\n'.join(section)\n",
        "        print('\\n\\nprefix:\\n%s' % prefix)"
      ],
      "execution_count": null,
      "outputs": []
    }
  ]
}