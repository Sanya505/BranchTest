{
  "nbformat": 4,
  "nbformat_minor": 0,
  "metadata": {
    "colab": {
      "provenance": [],
      "include_colab_link": true
    },
    "kernelspec": {
      "name": "python3",
      "display_name": "Python 3"
    },
    "language_info": {
      "name": "python"
    }
  },
  "cells": [
    {
      "cell_type": "markdown",
      "metadata": {
        "id": "view-in-github",
        "colab_type": "text"
      },
      "source": [
        "<a href=\"https://colab.research.google.com/github/Sanya505/BranchTest/blob/main/%D0%9A%D0%BE%D1%80%D0%BE%D1%82%D0%BA%D0%BE%D0%B2%D0%B0_%D0%9B%D0%B5%D0%BA%D1%86%D0%B8%D1%8F_%E2%84%966.ipynb\" target=\"_parent\"><img src=\"https://colab.research.google.com/assets/colab-badge.svg\" alt=\"Open In Colab\"/></a>"
      ]
    },
    {
      "cell_type": "markdown",
      "metadata": {
        "id": "goKCGXSUoln1"
      },
      "source": [
        "<p><img src=\"https://u.foxford.ngcdn.ru/uploads/inner_file/file/138629/lec6.jpg\"></p>"
      ]
    },
    {
      "cell_type": "markdown",
      "metadata": {
        "id": "fTAUCMGRqM75"
      },
      "source": [
        "___\n",
        "\n",
        "<font color=\"#000000\">Основы Python и глубокого обучения</font>\n",
        "<font color=\"#AEBAC5\"> → </font>\n",
        "<font color=\"#AEBAC5\">Компьютерное зрение (CV)</font>\n",
        "<font color=\"#AEBAC5\"> → </font>\n",
        "<font color=\"#AEBAC5\">Обработка естественного языка (NLP)</font>\n",
        "\n",
        "___"
      ]
    },
    {
      "cell_type": "markdown",
      "metadata": {
        "id": "V5fqY6dZVxEY"
      },
      "source": [
        "<h1><strong><font color=\"#FF732B\">Предобработка признаков</font></strong></h1>"
      ]
    },
    {
      "cell_type": "code",
      "source": [
        "import numpy as np\n",
        "import pandas as pd\n",
        "import matplotlib.pyplot as plt\n",
        "import warnings\n",
        "warnings.filterwarnings('ignore')"
      ],
      "metadata": {
        "id": "A-gpzwMnJbho"
      },
      "execution_count": null,
      "outputs": []
    },
    {
      "cell_type": "markdown",
      "metadata": {
        "id": "5WiAdBc3V-7x"
      },
      "source": [
        "<h3><strong><font color=\"#809BFF\">Задача №1</font></strong></h3>\n",
        "\n",
        "Загрузи данные train.csv при помощи библиотеки Pandas."
      ]
    },
    {
      "cell_type": "code",
      "source": [
        "from google.colab import drive\n",
        "drive.mount('/content/drive')"
      ],
      "metadata": {
        "id": "0fUfgmIOKUsZ"
      },
      "execution_count": null,
      "outputs": []
    },
    {
      "cell_type": "code",
      "source": [
        "#место для кода\n",
        "data = pd.read_csv('/content/drive/MyDrive/train.csv')\n",
        "data.head()"
      ],
      "metadata": {
        "id": "MHoD8qJ5tVyp"
      },
      "execution_count": null,
      "outputs": []
    },
    {
      "cell_type": "markdown",
      "source": [
        "<p><img src=\"https://u.foxford.ngcdn.ru/uploads/inner_file/file/138666/155p.png\"></p>"
      ],
      "metadata": {
        "id": "231tgwaTzElS"
      }
    },
    {
      "cell_type": "markdown",
      "metadata": {
        "id": "v_34-uok1iyt"
      },
      "source": [
        "<h3><strong><font color=\"#809BFF\">Задача №2</font></strong></h3>\n",
        "\n",
        "Как думаешь, вся ли информация нам нужна? Может можно что-то удалить? Используй data.drop для удаления ненужных колонок."
      ]
    },
    {
      "cell_type": "code",
      "metadata": {
        "id": "o_3zPjU42aVI"
      },
      "source": [
        "#место для кода\n"
      ],
      "execution_count": null,
      "outputs": []
    },
    {
      "cell_type": "markdown",
      "source": [
        "<p><img src=\"https://u.foxford.ngcdn.ru/uploads/inner_file/file/138723/celper.png\"></p>"
      ],
      "metadata": {
        "id": "CMf4b6HSiNcX"
      }
    },
    {
      "cell_type": "markdown",
      "metadata": {
        "id": "WfTzt_ziodk3"
      },
      "source": [
        "<h3><strong><font color=\"#809BFF\">Задача №3</font></strong></h3>\n",
        "Отдели целевую переменную от всех данных."
      ]
    },
    {
      "cell_type": "code",
      "metadata": {
        "id": "oz1PbL2aookW"
      },
      "source": [
        "#место для кода\n"
      ],
      "execution_count": null,
      "outputs": []
    },
    {
      "cell_type": "code",
      "source": [
        "data"
      ],
      "metadata": {
        "id": "_MFAf_bRbEpX"
      },
      "execution_count": null,
      "outputs": []
    },
    {
      "cell_type": "markdown",
      "source": [
        "<h1><strong><font color=\"#FF732B\">Посмотрим на типы данных</font></strong></h1>"
      ],
      "metadata": {
        "id": "nChcv7ZKi1xT"
      }
    },
    {
      "cell_type": "code",
      "source": [
        "data.columns"
      ],
      "metadata": {
        "id": "RpWuy-VVbG07"
      },
      "execution_count": null,
      "outputs": []
    },
    {
      "cell_type": "code",
      "source": [
        "data.dtypes"
      ],
      "metadata": {
        "id": "jExI9-CUbMBn"
      },
      "execution_count": null,
      "outputs": []
    },
    {
      "cell_type": "code",
      "source": [
        "data.columns[data.isna().any()].tolist()"
      ],
      "metadata": {
        "id": "xAgOK1l4jJMD"
      },
      "execution_count": null,
      "outputs": []
    },
    {
      "cell_type": "markdown",
      "metadata": {
        "id": "D7voNE64o3Ul"
      },
      "source": [
        "<h3><strong><font color=\"#809BFF\">Задача №4</font></strong></h3>\n",
        "\n",
        "Попробуй найти связь разных признаков (колонок) и возможно, \"выбросы\" -случайные значения. Связь между какими признаками было бы интересно посмотреть?"
      ]
    },
    {
      "cell_type": "markdown",
      "source": [
        "<p><img src=\"https://u.foxford.ngcdn.ru/uploads/inner_file/file/124956/important.png\" width = 100></p>"
      ],
      "metadata": {
        "id": "52BXKY4DlmNG"
      }
    },
    {
      "cell_type": "code",
      "source": [
        "#место для кода\n"
      ],
      "metadata": {
        "id": "uBhqTWMVjSPk"
      },
      "execution_count": null,
      "outputs": []
    },
    {
      "cell_type": "code",
      "source": [
        "#место для кода"
      ],
      "metadata": {
        "id": "tHSOytsGklWc"
      },
      "execution_count": null,
      "outputs": []
    },
    {
      "cell_type": "markdown",
      "source": [
        "<p><img src=\"https://u.foxford.ngcdn.ru/uploads/inner_file/file/138724/nan.png\"></p>"
      ],
      "metadata": {
        "id": "yNdPoTY-nj2a"
      }
    },
    {
      "cell_type": "markdown",
      "source": [
        "<h3><strong><font color=\"#809BFF\">Задача №5</font></strong></h3>\n",
        "\n",
        "В колонке \"Age\" - есть много NaN. Мы можем посмотреть на среднее  и медианное значения. Давай это сделаем. А потом, заполним пропуски одним из этих значений."
      ],
      "metadata": {
        "id": "ZgJu5Zd8kdVs"
      }
    },
    {
      "cell_type": "code",
      "source": [
        "#место для кода"
      ],
      "metadata": {
        "id": "utlWqT9NmNBj"
      },
      "execution_count": null,
      "outputs": []
    },
    {
      "cell_type": "code",
      "source": [
        "#место для кода"
      ],
      "metadata": {
        "id": "AgD-GON3oUVe"
      },
      "execution_count": null,
      "outputs": []
    },
    {
      "cell_type": "markdown",
      "source": [
        "<h3><strong><font color=\"#809BFF\">Задача №6</font></strong></h3>\n",
        "\n",
        "В колонке \"Embarked\" - есть буквенные (категориальные) значения. Давай попробуем посмотреть, сколько пассажиров село в S(Саутгемптон), C (Шербург) и Q(Куинстаун). И заполним пропуски самым популярным значением."
      ],
      "metadata": {
        "id": "X-8LCXlclfsP"
      }
    },
    {
      "cell_type": "code",
      "source": [
        "data[\"Embarked\"]...()\n",
        "#место для кода"
      ],
      "metadata": {
        "id": "gYxQDi5HmGmZ"
      },
      "execution_count": null,
      "outputs": []
    },
    {
      "cell_type": "markdown",
      "metadata": {
        "id": "wSbNt6efpKLm"
      },
      "source": [
        "<h3><strong><font color=\"#809BFF\">Задача №7</font></strong></h3>\n",
        "\n",
        "Осталась самая сложная колонка 'Cabin' - что с ней делать? В ней пропусков больше половины! Как думаешь, как быть?"
      ]
    },
    {
      "cell_type": "code",
      "metadata": {
        "id": "VgMkhUKMpDc_"
      },
      "source": [
        "#место для кода\n"
      ],
      "execution_count": null,
      "outputs": []
    },
    {
      "cell_type": "markdown",
      "source": [
        "<h1><strong><font color=\"#FF732B\">Переведем категориальные значения в числовые</font></strong></h1>"
      ],
      "metadata": {
        "id": "9OHaoaKKsTbw"
      }
    },
    {
      "cell_type": "code",
      "source": [
        "print(data.columns)\n",
        "print(data.dtypes)"
      ],
      "metadata": {
        "id": "qRULLYUOsDTd"
      },
      "execution_count": null,
      "outputs": []
    },
    {
      "cell_type": "markdown",
      "source": [
        "<h3><strong><font color=\"#809BFF\">Задача №8</font></strong></h3>\n",
        "\n",
        "Измени и замени значения колонки \"Sex\", на 1 и 0."
      ],
      "metadata": {
        "id": "7sfk71s3xadv"
      }
    },
    {
      "cell_type": "code",
      "source": [
        "#место для кода"
      ],
      "metadata": {
        "id": "JfUQWd6Bl15h"
      },
      "execution_count": null,
      "outputs": []
    },
    {
      "cell_type": "code",
      "source": [
        "data"
      ],
      "metadata": {
        "id": "5aIxFyq2skwD"
      },
      "execution_count": null,
      "outputs": []
    },
    {
      "cell_type": "markdown",
      "source": [
        "<h3><strong><font color=\"#809BFF\">Задача №9</font></strong></h3>\n",
        "\n",
        "В \"Embarked\" ситуация другая. Там 3 значения! 1 и 0 здесь не помогут так, как в предыдущем задании. Давай разобьем просто эту колонку на 3, где будет указана 1, если это значение внутри колонки совпадает с названием колонки, а 0- не совпадает."
      ],
      "metadata": {
        "id": "T5NlYRw7zeIC"
      }
    },
    {
      "cell_type": "code",
      "source": [
        "#место для кода"
      ],
      "metadata": {
        "id": "FE5T3neCzLEf"
      },
      "execution_count": null,
      "outputs": []
    },
    {
      "cell_type": "markdown",
      "metadata": {
        "id": "eHFZOhnVrZkG"
      },
      "source": [
        "<h1><strong><font color=\"#FF732B\">Обучение модели</font></strong></h1>"
      ]
    },
    {
      "cell_type": "markdown",
      "source": [
        "<p><img src=\"https://u.foxford.ngcdn.ru/uploads/inner_file/file/138748/scl.png\"></p>"
      ],
      "metadata": {
        "id": "Obh21cpkIoaT"
      }
    },
    {
      "cell_type": "code",
      "source": [
        "#Разбиваем данные на train и val\n",
        "from sklearn.model_selection import train_test_split\n",
        "train_data, val_data, train_y, val_y = train_test_split(data, y, test_size=0.3)"
      ],
      "metadata": {
        "id": "ecYfaHWmqyvF",
        "colab": {
          "base_uri": "https://localhost:8080/",
          "height": 231
        },
        "outputId": "4f9b25f7-bb08-4eac-d663-b683a549c0fb"
      },
      "execution_count": null,
      "outputs": [
        {
          "output_type": "error",
          "ename": "NameError",
          "evalue": "ignored",
          "traceback": [
            "\u001b[0;31m---------------------------------------------------------------------------\u001b[0m",
            "\u001b[0;31mNameError\u001b[0m                                 Traceback (most recent call last)",
            "\u001b[0;32m<ipython-input-9-c664c8a5c586>\u001b[0m in \u001b[0;36m<cell line: 3>\u001b[0;34m()\u001b[0m\n\u001b[1;32m      1\u001b[0m \u001b[0;31m#Разбиваем данные на train и val\u001b[0m\u001b[0;34m\u001b[0m\u001b[0;34m\u001b[0m\u001b[0m\n\u001b[1;32m      2\u001b[0m \u001b[0;32mfrom\u001b[0m \u001b[0msklearn\u001b[0m\u001b[0;34m.\u001b[0m\u001b[0mmodel_selection\u001b[0m \u001b[0;32mimport\u001b[0m \u001b[0mtrain_test_split\u001b[0m\u001b[0;34m\u001b[0m\u001b[0;34m\u001b[0m\u001b[0m\n\u001b[0;32m----> 3\u001b[0;31m \u001b[0mtrain_data\u001b[0m\u001b[0;34m,\u001b[0m \u001b[0mval_data\u001b[0m\u001b[0;34m,\u001b[0m \u001b[0mtrain_y\u001b[0m\u001b[0;34m,\u001b[0m \u001b[0mval_y\u001b[0m \u001b[0;34m=\u001b[0m \u001b[0mtrain_test_split\u001b[0m\u001b[0;34m(\u001b[0m\u001b[0mdata\u001b[0m\u001b[0;34m,\u001b[0m \u001b[0my\u001b[0m\u001b[0;34m,\u001b[0m \u001b[0mtest_size\u001b[0m\u001b[0;34m=\u001b[0m\u001b[0;36m0.3\u001b[0m\u001b[0;34m)\u001b[0m\u001b[0;34m\u001b[0m\u001b[0;34m\u001b[0m\u001b[0m\n\u001b[0m",
            "\u001b[0;31mNameError\u001b[0m: name 'y' is not defined"
          ]
        }
      ]
    },
    {
      "cell_type": "markdown",
      "source": [
        "<p><img src=\"https://u.foxford.ngcdn.ru/uploads/inner_file/file/138764/F1.png\"></p>"
      ],
      "metadata": {
        "id": "mDs_GNaFO9Np"
      }
    },
    {
      "cell_type": "markdown",
      "source": [
        "<p><img src=\"\thttps://u.foxford.ngcdn.ru/uploads/inner_file/file/138766/f2.png\"></p>"
      ],
      "metadata": {
        "id": "p4vRZVgQPH3N"
      }
    },
    {
      "cell_type": "markdown",
      "source": [
        "<p><img src=\"\thttps://u.foxford.ngcdn.ru/uploads/inner_file/file/138767/f3.png\"></p>"
      ],
      "metadata": {
        "id": "u1qZhNsiPJEx"
      }
    },
    {
      "cell_type": "markdown",
      "source": [
        "<p><img src=\"https://u.foxford.ngcdn.ru/uploads/inner_file/file/138765/Vis.png\"></p>"
      ],
      "metadata": {
        "id": "2Fw4p91oPJ5C"
      }
    },
    {
      "cell_type": "code",
      "source": [
        "from sklearn.neighbors import KNeighborsClassifier\n",
        "\n",
        "from sklearn.metrics import accuracy_score"
      ],
      "metadata": {
        "id": "v0HkokP_q95B"
      },
      "execution_count": null,
      "outputs": []
    },
    {
      "cell_type": "markdown",
      "metadata": {
        "id": "2ueHDI6TNner"
      },
      "source": [
        "<h3><strong><font color=\"#809BFF\">Задача №10</font></strong></h3>\n",
        "\n",
        "Подготовим и проведем обучение: 1)Обозначь количество соседей как 3. 2) Обучи модель. 3)Выведи результаты(prediction, accuraccy_score)"
      ]
    },
    {
      "cell_type": "code",
      "source": [
        "#место для кода"
      ],
      "metadata": {
        "id": "8-vhCQu8rC0z"
      },
      "execution_count": null,
      "outputs": []
    },
    {
      "cell_type": "code",
      "source": [
        "np.array(val_y)"
      ],
      "metadata": {
        "id": "j0r7Ju7nnMH2"
      },
      "execution_count": null,
      "outputs": []
    },
    {
      "cell_type": "code",
      "source": [
        "accuracy_score(...)"
      ],
      "metadata": {
        "id": "yDgbiGmhnOef"
      },
      "execution_count": null,
      "outputs": []
    },
    {
      "cell_type": "markdown",
      "source": [
        "<h1><strong><font color=\"#FF732B\">Подбор гиперпараметра</font></strong></h1>"
      ],
      "metadata": {
        "id": "mkYs_7pFrVES"
      }
    },
    {
      "cell_type": "markdown",
      "source": [
        "<h3><strong><font color=\"#809BFF\">Задача №11</font></strong></h3>\n",
        "Посмотри соседей(k) от 1 до 20 включительно, обучи для каждого значения k классификатор KNN и посчитай метрику accuracy_score на валидационных данных."
      ],
      "metadata": {
        "id": "nrYE4cq51jZG"
      }
    },
    {
      "cell_type": "code",
      "source": [
        "#место для кода"
      ],
      "metadata": {
        "id": "g2j_jASRrMrx"
      },
      "execution_count": null,
      "outputs": []
    },
    {
      "cell_type": "code",
      "source": [
        "plt.plot(list(range(1, 21)), val_scores)\n",
        "plt.xticks(list(range(1, 21)))\n",
        "plt.xlabel(\"количество соседей\")\n",
        "plt.ylabel(\"accuracy_score\")\n",
        "plt.show()"
      ],
      "metadata": {
        "id": "2JFl5nnBrZu-"
      },
      "execution_count": null,
      "outputs": []
    },
    {
      "cell_type": "markdown",
      "source": [
        "<h1><strong><font color=\"#FF732B\">Узнаем ответы для тестового датасета</font></strong></h1>"
      ],
      "metadata": {
        "id": "UYqlk-irnj38"
      }
    },
    {
      "cell_type": "markdown",
      "source": [
        "<h3><strong><font color=\"#809BFF\">Задача №12</font></strong></h3>\n",
        "Загрузи тестовые данные и предобратай их по аналогии с тренировочным."
      ],
      "metadata": {
        "id": "ow3sn7qL3Suu"
      }
    },
    {
      "cell_type": "code",
      "source": [
        "#место для кода"
      ],
      "metadata": {
        "id": "Ge9KUrUkofJl"
      },
      "execution_count": null,
      "outputs": []
    },
    {
      "cell_type": "code",
      "source": [
        "# удаляем колонки\n",
        "\n",
        "# заполняем пропуски\n",
        "\n",
        "# переводим категориальные признаки в числовые\n",
        "\n",
        "test_data.head()"
      ],
      "metadata": {
        "id": "a1qmTD01oFhi"
      },
      "execution_count": null,
      "outputs": []
    },
    {
      "cell_type": "code",
      "source": [
        "#Проверяем NaN\n",
        "test_data.isna().any()"
      ],
      "metadata": {
        "id": "LdCpNg06oHL_"
      },
      "execution_count": null,
      "outputs": []
    },
    {
      "cell_type": "code",
      "source": [
        " #Заполни пропуски в Fare медианой из тренировочных данных.\n",
        " test_data[\"Fare\"] = ..."
      ],
      "metadata": {
        "id": "rsSCUGLYoJ7g"
      },
      "execution_count": null,
      "outputs": []
    },
    {
      "cell_type": "markdown",
      "source": [
        "<h3><strong><font color=\"#809BFF\">Задача №13</font></strong></h3>\n",
        "Обучи KNN на всей тренировочной выборке. Какой параметр K стоит выбрать?"
      ],
      "metadata": {
        "id": "UQBEb-stSzgs"
      }
    },
    {
      "cell_type": "code",
      "source": [
        "#место для кода"
      ],
      "metadata": {
        "id": "s6pZFqzZrnpk"
      },
      "execution_count": null,
      "outputs": []
    },
    {
      "cell_type": "code",
      "source": [
        "test_predicted"
      ],
      "metadata": {
        "id": "KbOIawMqo7mU"
      },
      "execution_count": null,
      "outputs": []
    },
    {
      "cell_type": "markdown",
      "source": [
        "<p><img src=\"https://u.foxford.ngcdn.ru/uploads/inner_file/file/133178/ia.png\"></p>"
      ],
      "metadata": {
        "id": "3zIuvnz0MY9j"
      }
    },
    {
      "cell_type": "markdown",
      "metadata": {
        "id": "i7KImah_EBVy"
      },
      "source": [
        "<h1><strong><font color=\"#FC4262\">Домашняя работа</font></strong></h1>"
      ]
    },
    {
      "cell_type": "markdown",
      "metadata": {
        "id": "BdNn502i2vTz"
      },
      "source": [
        "Вот несколько шагов, чтобы настроить удобную работу над домашними задачами:\n",
        "\n",
        "1. В сервисе [Google Drive](https://www.google.com/intl/ru/drive/) создай папку `foxford_ds_study` (если еще этого не сделал), в которой ты будешь хранить все учебные материалы с этого курса.\n",
        "2. Сохрани копию этой тетрадки `Лекция №6.ipynb` *(File → Save a copy in Drive)* в папку `foxford_ds_study`.\n",
        "\n",
        "Зачем это нужно?\n",
        "\n",
        "Файл, в котором работает преподаватель — это «оригинальный» файл и мы не можем работать в нем все вместе, ведь у каждого свой код! Каждому ученику необходимо сделать свою копию файла и выполнять домашку именно в ней. Если хочешь, ты можешь назвать свой файл по имени, например, `Лекция №6 Иван Кнопочкин.ipynb`.\n",
        "\n",
        "В начале следующей лекции мы обсудим эти задачи вместе."
      ]
    },
    {
      "cell_type": "markdown",
      "source": [
        "<h3><strong><font color=\"#809BFF\">Задача №14</font></strong></h3>\n",
        "Сохрани ответы на тестовый датасет."
      ],
      "metadata": {
        "id": "3NHBSXW337DW"
      }
    },
    {
      "cell_type": "code",
      "source": [
        "#место для кода"
      ],
      "metadata": {
        "id": "n_abNkNTrpGF"
      },
      "execution_count": null,
      "outputs": []
    }
  ]
}