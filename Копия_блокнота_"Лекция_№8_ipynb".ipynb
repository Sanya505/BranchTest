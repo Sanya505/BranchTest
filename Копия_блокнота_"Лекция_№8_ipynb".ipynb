{
  "nbformat": 4,
  "nbformat_minor": 0,
  "metadata": {
    "colab": {
      "provenance": [],
      "include_colab_link": true
    },
    "kernelspec": {
      "name": "python3",
      "display_name": "Python 3"
    },
    "language_info": {
      "name": "python"
    }
  },
  "cells": [
    {
      "cell_type": "markdown",
      "metadata": {
        "id": "view-in-github",
        "colab_type": "text"
      },
      "source": [
        "<a href=\"https://colab.research.google.com/github/Sanya505/BranchTest/blob/main/%D0%9A%D0%BE%D0%BF%D0%B8%D1%8F_%D0%B1%D0%BB%D0%BE%D0%BA%D0%BD%D0%BE%D1%82%D0%B0_%22%D0%9B%D0%B5%D0%BA%D1%86%D0%B8%D1%8F_%E2%84%968_ipynb%22.ipynb\" target=\"_parent\"><img src=\"https://colab.research.google.com/assets/colab-badge.svg\" alt=\"Open In Colab\"/></a>"
      ]
    },
    {
      "cell_type": "markdown",
      "metadata": {
        "id": "goKCGXSUoln1"
      },
      "source": [
        "<p><img src=\"\thttps://u.foxford.ngcdn.ru/uploads/inner_file/file/139300/S8.jpg\"></p>"
      ]
    },
    {
      "cell_type": "markdown",
      "metadata": {
        "id": "fTAUCMGRqM75"
      },
      "source": [
        "___\n",
        "\n",
        "<font color=\"#000000\">Основы Python и глубокого обучения</font>\n",
        "<font color=\"#AEBAC5\"> → </font>\n",
        "<font color=\"#AEBAC5\">Компьютерное зрение (CV)</font>\n",
        "<font color=\"#AEBAC5\"> → </font>\n",
        "<font color=\"#AEBAC5\">Обработка естественного языка (NLP)</font>\n",
        "\n",
        "___"
      ]
    },
    {
      "cell_type": "markdown",
      "metadata": {
        "id": "tGxGwbXiqppB"
      },
      "source": [
        "<h1><strong><font color=\"#FF732B\">Операции с векторами</font></strong></h1>"
      ]
    },
    {
      "cell_type": "markdown",
      "metadata": {
        "id": "5X_ru97sYVRQ"
      },
      "source": [
        "<p><img src=\"https://u.foxford.ngcdn.ru/uploads/inner_file/file/100380/14.gif\"></p>"
      ]
    },
    {
      "cell_type": "markdown",
      "metadata": {
        "id": "cNA_XCo1rJnb"
      },
      "source": [
        "<h3><strong><font color=\"#809BFF\">Задача №1</font></strong></h3>\n",
        "\n",
        "Напиши функцию `elementwise_multiplication()`, которая принимает 2 вектора и перемножает каждый элемент между собой."
      ]
    },
    {
      "cell_type": "code",
      "metadata": {
        "id": "OCPrF5JcrNXP"
      },
      "source": [
        "# весовые коэффициенты\n",
        "vector_a = [0.12, 0, 0.2]\n",
        "\n",
        "# векторы прогнозирующих признаков\n",
        "number_of_games = [7, 6, 8, 9, 9]\n",
        "number_of_victories = [6, 5, 6, 7, 7]\n",
        "number_of_fans = [0.07, 0.16, 0.05, 0.81, 0.22]\n",
        "\n",
        "# статистика перед первой игрой\n",
        "vector_b = ...\n",
        "\n",
        "# напиши функцию поэлементного умножения\n",
        "\n",
        "# вызови функцию"
      ],
      "execution_count": null,
      "outputs": []
    },
    {
      "cell_type": "markdown",
      "metadata": {
        "id": "tPSIRdRAbfT9"
      },
      "source": [
        "<p><img src=\"https://u.foxford.ngcdn.ru/uploads/inner_file/file/100382/15.gif\"></p>"
      ]
    },
    {
      "cell_type": "markdown",
      "metadata": {
        "id": "EW_VWXVZrNv4"
      },
      "source": [
        "<h3><strong><font color=\"#809BFF\">Задача №2</font></strong></h3>\n",
        "\n",
        "Напиши функцию `elementwise_addition()`, которая принимает 2 вектора и складывает каждый элемент между собой."
      ]
    },
    {
      "cell_type": "code",
      "metadata": {
        "id": "bqC7qigSrOa0"
      },
      "source": [
        "# весовые коэффициенты\n",
        "vector_a = [0.12, 0, 0.2]\n",
        "\n",
        "# векторы прогнозирующих признаков\n",
        "number_of_games = [7, 6, 8, 9, 9]\n",
        "number_of_victories = [6, 5, 6, 7, 7]\n",
        "number_of_fans = [0.07, 0.16, 0.05, 0.81, 0.22]\n",
        "\n",
        "# статистика перед первой игрой\n",
        "vector_b = [number_of_games[0], number_of_victories[0], number_of_fans[0]]\n",
        "\n",
        "# напиши функцию поэлементного сложения\n",
        "\n",
        "# вызови функцию"
      ],
      "execution_count": null,
      "outputs": []
    },
    {
      "cell_type": "markdown",
      "metadata": {
        "id": "7CTCpirkrOzL"
      },
      "source": [
        "<h3><strong><font color=\"#809BFF\">Задача №3</font></strong></h3>\n",
        "\n",
        "Напиши функцию `vector_sum()`, которая принимает один вектор и суммирует все его элементы."
      ]
    },
    {
      "cell_type": "code",
      "metadata": {
        "id": "9VddKmDMrPMb"
      },
      "source": [
        "# весовые коэффициенты\n",
        "vector_a = [0.12, 0, 0.2]\n",
        "\n",
        "# напиши функцию, которая сложит все элементы vector_a\n",
        "\n",
        "# вызови функцию"
      ],
      "execution_count": null,
      "outputs": []
    },
    {
      "cell_type": "markdown",
      "metadata": {
        "id": "JTDaD3wqrPWK"
      },
      "source": [
        "<h3><strong><font color=\"#809BFF\">Задача №4</font></strong></h3>\n",
        "\n",
        "Напиши функцию `vector_average()`, которая принимает один вектор и находит среднее значение для его элементов."
      ]
    },
    {
      "cell_type": "code",
      "metadata": {
        "id": "uj_BRTC8rPnA"
      },
      "source": [
        "# весовые коэффициенты\n",
        "vector_a = [0.12, 0, 0.2]\n",
        "\n",
        "# напиши функцию, которая найдет среднее значение для вектора\n",
        "\n",
        "# вызови функцию"
      ],
      "execution_count": null,
      "outputs": []
    },
    {
      "cell_type": "markdown",
      "metadata": {
        "id": "TH8014cOeu1J"
      },
      "source": [
        "<h1><strong><font color=\"#FF732B\">Зачем нужно скалярное произведение?</font></strong></h1>"
      ]
    },
    {
      "cell_type": "markdown",
      "metadata": {
        "id": "KvNAktUV9OHQ"
      },
      "source": [
        "<p><img src=\"https://u.foxford.ngcdn.ru/uploads/inner_file/file/100407/16.png\"></p>"
      ]
    },
    {
      "cell_type": "markdown",
      "metadata": {
        "id": "ym4SIgi89Ofg"
      },
      "source": [
        "<p><img src=\"https://u.foxford.ngcdn.ru/uploads/inner_file/file/100408/17.png\"></p>"
      ]
    },
    {
      "cell_type": "markdown",
      "metadata": {
        "id": "JTItg4no9O94"
      },
      "source": [
        "<p><img src=\"https://u.foxford.ngcdn.ru/uploads/inner_file/file/100409/18.png\"></p>"
      ]
    },
    {
      "cell_type": "markdown",
      "metadata": {
        "id": "WL5RYoo29wkX"
      },
      "source": [
        "<p><img src=\"https://u.foxford.ngcdn.ru/uploads/inner_file/file/100410/19.png\"></p>"
      ]
    },
    {
      "cell_type": "markdown",
      "metadata": {
        "id": "5HDfltko9w4Y"
      },
      "source": [
        "<p><img src=\"https://u.foxford.ngcdn.ru/uploads/inner_file/file/100411/20.png\"></p>"
      ]
    },
    {
      "cell_type": "markdown",
      "metadata": {
        "id": "fkTUD6889xJO"
      },
      "source": [
        "<p><img src=\"https://u.foxford.ngcdn.ru/uploads/inner_file/file/100412/21.png\"></p>"
      ]
    },
    {
      "cell_type": "markdown",
      "metadata": {
        "id": "xMOnDjz5DDi1"
      },
      "source": [
        "<p><img src=\"https://u.foxford.ngcdn.ru/uploads/inner_file/file/101092/33.png\"></p>"
      ]
    },
    {
      "cell_type": "markdown",
      "metadata": {
        "id": "2UncSd-XrA71"
      },
      "source": [
        "<h1><strong><font color=\"#FF732B\">Скалярное произведение с помощью с NumPy</font></strong></h1>"
      ]
    },
    {
      "cell_type": "markdown",
      "metadata": {
        "id": "ZOjk64hLqzWE"
      },
      "source": [
        "<h3><strong><font color=\"#809BFF\">Задача №5</font></strong></h3>\n",
        "\n",
        "Создай вектор `new_vector` с помощью библиотеки NumPy и проверь его размерность."
      ]
    },
    {
      "cell_type": "code",
      "metadata": {
        "id": "sxHRCFTTquCq"
      },
      "source": [
        "import ..."
      ],
      "execution_count": null,
      "outputs": []
    },
    {
      "cell_type": "code",
      "metadata": {
        "id": "4ECp64nQqzvw"
      },
      "source": [
        "new_vector = ..."
      ],
      "execution_count": null,
      "outputs": []
    },
    {
      "cell_type": "markdown",
      "metadata": {
        "id": "6BTM9aJ2qRqn"
      },
      "source": [
        "<h3><strong><font color=\"#809BFF\">Задача №6</font></strong></h3>\n",
        "\n",
        "Напиши нейросеть `neural_network_n()` (n — NumPy), которая принимает векторы `input_data` и `weights` и находит их скалярное произведение с помощью библиотеки NumPy."
      ]
    },
    {
      "cell_type": "code",
      "metadata": {
        "id": "EAbxDijwrgr6"
      },
      "source": [
        "# весовые коэффициенты\n",
        "weights = [0.12, 0, 0.2]\n",
        "\n",
        "# векторы прогнозирующих признаков\n",
        "number_of_games = [7, 6, 8, 9, 9]\n",
        "number_of_victories = [6, 5, 6, 7, 7]\n",
        "number_of_fans = [0.07, 0.16, 0.05, 0.81, 0.22]\n",
        "\n",
        "# статистика перед первой игрой\n",
        "input_data = [number_of_games[0], number_of_victories[0], number_of_fans[0]]\n",
        "\n",
        "# напиши нейросеть\n",
        "\n",
        "# присвой результат в переменную prediction_n и напечатай его"
      ],
      "execution_count": null,
      "outputs": []
    },
    {
      "cell_type": "markdown",
      "metadata": {
        "id": "ghyf29hErweM"
      },
      "source": [
        "<h1><strong><font color=\"#FF732B\">Несколько выходных данных</font></strong></h1>"
      ]
    },
    {
      "cell_type": "markdown",
      "metadata": {
        "id": "qLZjEvyPKutD"
      },
      "source": [
        "<p><img src=\"https://u.foxford.ngcdn.ru/uploads/inner_file/file/100557/24.png\"></p>"
      ]
    },
    {
      "cell_type": "markdown",
      "metadata": {
        "id": "1dAWVYE-Klib"
      },
      "source": [
        "<h3><strong><font color=\"#809BFF\">Задача №7</font></strong></h3>\n",
        "\n",
        "Напиши нейросеть `multiple_elements()`, которая принимает на вход одну точку данных с количеством фанатов, перемножает ее на 3 весовых коэффициента и прогнозирует следующие события:\n",
        "\n",
        "* потасовка на поле\n",
        "* победа команды\n",
        "* плохое настроение игроков"
      ]
    },
    {
      "cell_type": "code",
      "metadata": {
        "id": "RZhH_xK1Krrw"
      },
      "source": [
        "# новые коэффициенты\n",
        "new_weights = np.array([5, 2, 1.5])\n",
        "\n",
        "# количество фанатов\n",
        "number_of_fans = np.array([0.07, 0.16, 0.05, 0.81, 0.22])\n",
        "new_input_data = number_of_fans[0]\n",
        "\n",
        "# напиши функцию multiple_elements()\n",
        "\n",
        "# присвой результат в переменную new_prediction и напечатай его"
      ],
      "execution_count": null,
      "outputs": []
    },
    {
      "cell_type": "code",
      "source": [
        "#Посмотрим на графике\n",
        "import matplotlib.pyplot as plt\n",
        "\n",
        "x = new_prediction\n",
        "\n",
        "colors = plt.get_cmap('Blues')(np.linspace(0.2, 0.7, len(x)))\n",
        "\n",
        "# plot\n",
        "fig, ax = plt.subplots()\n",
        "ax.pie(x, colors=colors, radius=3, center=(4, 4),\n",
        "       wedgeprops={\"linewidth\": 1, \"edgecolor\": \"white\"}, frame=True)\n",
        "\n",
        "ax.set(xlim=(0, 8), xticks=np.arange(1, 8),\n",
        "       ylim=(0, 8), yticks=np.arange(1, 8))\n",
        "\n",
        "plt.show()"
      ],
      "metadata": {
        "id": "tx1bggaHLw7M"
      },
      "execution_count": null,
      "outputs": []
    },
    {
      "cell_type": "markdown",
      "metadata": {
        "id": "-9qdKe86sqLA"
      },
      "source": [
        "<h1><strong><font color=\"#FF732B\">Несколько входных и выходных данных</font></strong></h1>"
      ]
    },
    {
      "cell_type": "markdown",
      "metadata": {
        "id": "8pse0CYh2Y3-"
      },
      "source": [
        "<p><img src=\"https://u.foxford.ngcdn.ru/uploads/inner_file/file/100558/25.png\"></p>"
      ]
    },
    {
      "cell_type": "markdown",
      "metadata": {
        "id": "myP-4oR9iFah"
      },
      "source": [
        "<p><img src=\"https://u.foxford.ngcdn.ru/uploads/inner_file/file/100533/23.gif\"></p>"
      ]
    },
    {
      "cell_type": "markdown",
      "metadata": {
        "id": "J6ueKiEwUX-4"
      },
      "source": [
        "<h3><strong><font color=\"#809BFF\">Задача №8</font></strong></h3>\n",
        "\n",
        "Напиши нейросеть для нескольких входных и выходных данных, которая будет состоять из двух функций.\n",
        "\n",
        "Первая — `weighted_sum()` — вычисляет и возвращает скалярное произведение. Ты уже делал такое в Задаче №1, переиспользуй код.\n",
        "\n",
        "Вторая — `shape_prediction_vector()` — формирует вектор из 3-х независимых скалярных произведений.\n",
        "\n",
        "Чтобы нагляднее представить работу такой нейросети обращайся к анимации выше."
      ]
    },
    {
      "cell_type": "code",
      "metadata": {
        "id": "K0grkmImW6Zo"
      },
      "source": [
        "# матрица весовых коэффициентов\n",
        "weights_matrix = [\n",
        "                  [-0.2, 0.15, 0.3],\n",
        "                  [0.12, 0, 0.1],\n",
        "                  [0.05, 0.09, 0.1],\n",
        "]\n",
        "\n",
        "# векторы прогнозирующих признаков\n",
        "number_of_games = [7, 6, 8, 9, 9]\n",
        "number_of_victories = [6, 5, 6, 7, 7]\n",
        "number_of_fans = [0.07, 0.16, 0.05, 0.81, 0.22]\n",
        "\n",
        "# статистика перед первой игрой\n",
        "input_data = [number_of_games[0], number_of_victories[0], number_of_fans[0]]\n",
        "\n",
        "# функция для вычисления [одного] скалярного произведения\n",
        "...\n",
        "\n",
        "# функция для формирования 3-х скалярных произведений (нового вектора)\n",
        "...\n",
        "\n",
        "# сохрани результат в prediction_vector и напечатай его\n",
        "prediction_vector = ..."
      ],
      "execution_count": null,
      "outputs": []
    },
    {
      "cell_type": "code",
      "source": [
        "#посмотрим на графике\n",
        "colors = plt.get_cmap('Blues')(np.linspace(0.2, 0.7, len(x)))\n",
        "\n",
        "# plot\n",
        "fig, ax = plt.subplots()\n",
        "ax.pie(x, colors=colors, radius=3, center=(4, 4),\n",
        "       wedgeprops={\"linewidth\": 1, \"edgecolor\": \"white\"}, frame=True)\n",
        "\n",
        "ax.set(xlim=(0, 8), xticks=np.arange(1, 8),\n",
        "       ylim=(0, 8), yticks=np.arange(1, 8))\n",
        "\n",
        "plt.show()"
      ],
      "metadata": {
        "id": "XoLdYK8qLuF5"
      },
      "execution_count": null,
      "outputs": []
    },
    {
      "cell_type": "markdown",
      "metadata": {
        "id": "jHgr8aXyS1gu"
      },
      "source": [
        "<h1><strong><font color=\"#FF732B\">Добавляем новый слой!</font></strong></h1>"
      ]
    },
    {
      "cell_type": "markdown",
      "metadata": {
        "id": "-HWqOLaKYeMo"
      },
      "source": [
        "<p><img src=\"https://u.foxford.ngcdn.ru/uploads/inner_file/file/100562/26.png\"></p>"
      ]
    },
    {
      "cell_type": "markdown",
      "metadata": {
        "id": "1sgMy6_mpdDY"
      },
      "source": [
        "<h3><strong><font color=\"#809BFF\">Задача №9</font></strong></h3>\n",
        "\n",
        "Мы добавили новую матрицу весов `new_weights_matrix` для того, чтобы на основе прошлого прогноза сделать новый!\n",
        "\n",
        "Все, что тебе нужно сделать — это сохранить прошлый прогнозирующий вектор `[-0.4790000000000002, 0.847, 0.8970000000000001]` в переменную `hidden`, а затем передать его в качестве входных данных функции `shape_prediction_vector()`.\n",
        "\n",
        "Доработай код, чтобы добавить новый слой."
      ]
    },
    {
      "cell_type": "code",
      "metadata": {
        "id": "fqn-_byQphZX"
      },
      "source": [
        "# матрица весовых коэффициентов\n",
        "weights_matrix = [\n",
        "                  [-0.2, 0.15, 0.3],\n",
        "                  [0.12, 0, 0.1],\n",
        "                  [0.05, 0.09, 0.1],\n",
        "]\n",
        "\n",
        "# добавляем вторую матрицу весов\n",
        "new_weights_matrix = [\n",
        "                  [0.3, 0.1, 0.1],\n",
        "                  [-0.08, 0.2, 0],\n",
        "                  [0, 0.13, 0.12],\n",
        "]\n",
        "\n",
        "# присвой переменной weights 2 матрицы весов (список)\n",
        "weights = ...\n",
        "\n",
        "# векторы прогнозирующих признаков\n",
        "number_of_games = [7, 6, 8, 9, 9]\n",
        "number_of_victories = [6, 5, 6, 7, 7]\n",
        "number_of_fans = [0.07, 0.16, 0.05, 0.81, 0.22]\n",
        "\n",
        "# статистика перед первой игрой\n",
        "input_data = [number_of_games[0], number_of_victories[0], number_of_fans[0]]\n",
        "\n",
        "# функция для вычисления [одного] скалярного произведения\n",
        "def weighted_sum(vector_a, vector_b):\n",
        "  prediction = 0\n",
        "  for value in range(len(vector_a)):\n",
        "    prediction += (vector_a[value] * vector_b[value])\n",
        "  return prediction\n",
        "\n",
        "# функция для формирования 3-х скалярных произведений\n",
        "def shape_prediction_vector(input_data, weights_matrix):\n",
        "  prediction_vector = []\n",
        "  for vector in range(len(input_data)):\n",
        "    prediction_vector.append(weighted_sum(input_data, weights_matrix[vector]))\n",
        "  return prediction_vector\n",
        "\n",
        "# сохрани промежуточный слой в hidden\n",
        "hidden = ...\n",
        "\n",
        "# передай hidden в качестве входных данных\n",
        "prediction_vector = ..."
      ],
      "execution_count": null,
      "outputs": []
    },
    {
      "cell_type": "markdown",
      "metadata": {
        "id": "252HMS47h6w2"
      },
      "source": [
        "<h1><strong><font color=\"#FF732B\">Broadcasting</font></strong></h1>"
      ]
    },
    {
      "cell_type": "markdown",
      "metadata": {
        "id": "mam1bMvSyWf7"
      },
      "source": [
        "<p><img src=\"https://u.foxford.ngcdn.ru/uploads/inner_file/file/100806/27.png\"></p>"
      ]
    },
    {
      "cell_type": "markdown",
      "metadata": {
        "id": "IqF9-Zjey43Q"
      },
      "source": [
        "<p><img src=\"https://u.foxford.ngcdn.ru/uploads/inner_file/file/100807/28.png\"></p>"
      ]
    },
    {
      "cell_type": "markdown",
      "metadata": {
        "id": "BiAl4LhZy-TQ"
      },
      "source": [
        "<p><img src=\"https://u.foxford.ngcdn.ru/uploads/inner_file/file/100808/29.png\"></p>"
      ]
    },
    {
      "cell_type": "markdown",
      "metadata": {
        "id": "TdRac8JdzD4x"
      },
      "source": [
        "<p><img src=\"https://u.foxford.ngcdn.ru/uploads/inner_file/file/100809/30.png\"></p>"
      ]
    },
    {
      "cell_type": "markdown",
      "metadata": {
        "id": "subel7Q4zUl-"
      },
      "source": [
        "<p><img src=\"https://u.foxford.ngcdn.ru/uploads/inner_file/file/100810/31.png\"></p>"
      ]
    },
    {
      "cell_type": "markdown",
      "metadata": {
        "id": "mJ8jpeMQIKKv"
      },
      "source": [
        "<p><img src=\"https://u.foxford.ngcdn.ru/uploads/inner_file/file/101093/34.png\"></p>"
      ]
    },
    {
      "cell_type": "markdown",
      "metadata": {
        "id": "MPRg5c31vVw4"
      },
      "source": [
        "<h1><strong><font color=\"#FF732B\">Итог — сеть прямого рас­пространения</font></strong></h1>"
      ]
    },
    {
      "cell_type": "markdown",
      "metadata": {
        "id": "DjeVyaPV1ybT"
      },
      "source": [
        "<p><img src=\"https://u.foxford.ngcdn.ru/uploads/inner_file/file/100812/32.gif\"></p>"
      ]
    },
    {
      "cell_type": "markdown",
      "metadata": {
        "id": "i7KImah_EBVy"
      },
      "source": [
        "<h1><strong><font color=\"#FC4262\">Домашняя работа</font></strong></h1>"
      ]
    },
    {
      "cell_type": "markdown",
      "metadata": {
        "id": "BdNn502i2vTz"
      },
      "source": [
        "Вот несколько шагов, чтобы настроить удобную работу над домашними задачами:\n",
        "\n",
        "1. В сервисе [Google Drive](https://www.google.com/intl/ru/drive/) создай папку `foxford_ds_study` (если еще этого не сделал), в которой ты будешь хранить все учебные материалы с этого курса.\n",
        "2. Сохрани копию этой тетрадки `Лекция №8.ipynb` *(File → Save a copy in Drive)* в папку `foxford_ds_study`.\n",
        "\n",
        "Зачем это нужно?\n",
        "\n",
        "Файл, в котором работает преподаватель — это «оригинальный» файл и мы не можем работать в нем все вместе, ведь у каждого свой код! Каждому ученику необходимо сделать свою копию файла и выполнять домашку именно в ней. Если хочешь, ты можешь назвать свой файл по имени, например, `Лекция №8 Иван Кнопочкин.ipynb`.\n",
        "\n",
        "В начале следующей лекции мы обсудим эти задачи вместе."
      ]
    },
    {
      "cell_type": "markdown",
      "metadata": {
        "id": "BKIX2F8kc8Dg"
      },
      "source": [
        "<h3><strong><font color=\"#809BFF\">Задача №10</font></strong></h3>\n",
        "\n",
        "Напиши свою функцию, которая вычисляет вычисляет скалярное произведение. Ты можешь взять за основу код из Задачи №1, но лучше самому придумать новые значения входных весов, коэффициенты и написать функцию скалярного произведения."
      ]
    },
    {
      "cell_type": "code",
      "metadata": {
        "id": "JNgCjJXO7VD8"
      },
      "source": [
        "# твой код"
      ],
      "execution_count": null,
      "outputs": []
    },
    {
      "cell_type": "markdown",
      "metadata": {
        "id": "gdTGJhGhFs9U"
      },
      "source": [
        "<h3><strong><font color=\"#809BFF\">Задача №11</font></strong></h3>\n",
        "\n",
        "Перепиши код из Задачи №10, используя библиотеку Numpy. Главное изменение — это вычисление скалярного произведения с помощью метода `.dot()`."
      ]
    },
    {
      "cell_type": "code",
      "metadata": {
        "id": "weKHsu5CF7kd"
      },
      "source": [
        "# твой код"
      ],
      "execution_count": null,
      "outputs": []
    },
    {
      "cell_type": "markdown",
      "metadata": {
        "id": "2AGLy6-kyG-g"
      },
      "source": [
        "<h3><strong><font color=\"#809BFF\">Задача №12</font></strong></h3>\n",
        "\n",
        "Перепиши примеры из раздела Broadcasting и попробуй еще раз проверить как работают те или иные операции (ты можешь менять значения, количество строк, столбцов и т.д.)."
      ]
    },
    {
      "cell_type": "code",
      "metadata": {
        "id": "2m-5Vek6yIpV"
      },
      "source": [
        "# твой код"
      ],
      "execution_count": null,
      "outputs": []
    }
  ]
}