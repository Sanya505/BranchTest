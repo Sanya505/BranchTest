{
  "cells": [
    {
      "cell_type": "markdown",
      "metadata": {
        "id": "view-in-github",
        "colab_type": "text"
      },
      "source": [
        "<a href=\"https://colab.research.google.com/github/Sanya505/BranchTest/blob/main/%D0%9C%D0%B0%D1%80%D1%82%D1%8B%D0%BD%D0%B5%D0%BD%D0%BA%D0%BE_%D0%9B%D0%B5%D0%BA%D1%86%D0%B8%D1%8F_%E2%84%9618.ipynb\" target=\"_parent\"><img src=\"https://colab.research.google.com/assets/colab-badge.svg\" alt=\"Open In Colab\"/></a>"
      ]
    },
    {
      "cell_type": "markdown",
      "metadata": {
        "id": "goKCGXSUoln1"
      },
      "source": [
        "<p><img src=\"https://u.foxford.ngcdn.ru/uploads/inner_file/file/138923/lect18.png\"></p>"
      ]
    },
    {
      "cell_type": "markdown",
      "metadata": {
        "id": "fTAUCMGRqM75"
      },
      "source": [
        "___\n",
        "\n",
        "<font color=\"#AEBAC5\">Основы Python и глубокого обучения</font>\n",
        "<font color=\"#AEBAC5\"> → </font>\n",
        "<font color=\"#000000\">Компьютерное зрение (CV)</font>\n",
        "<font color=\"#AEBAC5\"> → </font>\n",
        "<font color=\"#AEBAC5\">Обработка естественного языка (NLP)</font>\n",
        "\n",
        "___"
      ]
    },
    {
      "cell_type": "markdown",
      "source": [
        "<h1><strong><font color=\"#FF732B\">Влияние свертки на изображение</font></strong></h1>"
      ],
      "metadata": {
        "id": "dL2KxhBuDC8l"
      }
    },
    {
      "cell_type": "code",
      "source": [
        "import numpy as np\n",
        "import matplotlib.pyplot as plt\n"
      ],
      "metadata": {
        "id": "Wo8afPDD5P8I"
      },
      "execution_count": null,
      "outputs": []
    },
    {
      "cell_type": "code",
      "source": [
        "!wget https://u.foxford.ngcdn.ru/uploads/inner_file/file/99527/Homework.png"
      ],
      "metadata": {
        "id": "uczne2Epr79H",
        "colab": {
          "base_uri": "https://localhost:8080/"
        },
        "outputId": "1a1ae982-ba34-4b0a-d277-8cb6a586e33e"
      },
      "execution_count": null,
      "outputs": [
        {
          "output_type": "stream",
          "name": "stdout",
          "text": [
            "--2024-02-01 13:40:50--  https://u.foxford.ngcdn.ru/uploads/inner_file/file/99527/Homework.png\n",
            "Resolving u.foxford.ngcdn.ru (u.foxford.ngcdn.ru)... 104.20.157.54, 104.20.156.54, 2606:4700:10::6814:9d36, ...\n",
            "Connecting to u.foxford.ngcdn.ru (u.foxford.ngcdn.ru)|104.20.157.54|:443... connected.\n",
            "HTTP request sent, awaiting response... 200 OK\n",
            "Length: 7404 (7.2K) [image/png]\n",
            "Saving to: ‘Homework.png’\n",
            "\n",
            "\rHomework.png          0%[                    ]       0  --.-KB/s               \rHomework.png        100%[===================>]   7.23K  --.-KB/s    in 0s      \n",
            "\n",
            "2024-02-01 13:40:51 (43.4 MB/s) - ‘Homework.png’ saved [7404/7404]\n",
            "\n"
          ]
        }
      ]
    },
    {
      "cell_type": "markdown",
      "source": [
        "Проверим картинку:"
      ],
      "metadata": {
        "id": "U3FzHg918bgH"
      }
    },
    {
      "cell_type": "code",
      "source": [
        "img = plt.imread('./Homework.png')\n",
        "plt.imshow(img)"
      ],
      "metadata": {
        "id": "UynyXYlk79wY",
        "colab": {
          "base_uri": "https://localhost:8080/",
          "height": 452
        },
        "outputId": "abb691ff-aa93-4380-ead6-fbbceacb14ba"
      },
      "execution_count": null,
      "outputs": [
        {
          "output_type": "execute_result",
          "data": {
            "text/plain": [
              "<matplotlib.image.AxesImage at 0x7b3590306b90>"
            ]
          },
          "metadata": {},
          "execution_count": 3
        },
        {
          "output_type": "display_data",
          "data": {
            "text/plain": [
              "<Figure size 640x480 with 1 Axes>"
            ],
            "image/png": "[encoded data removed]"
          },
          "metadata": {}
        }
      ]
    },
    {
      "cell_type": "markdown",
      "metadata": {
        "id": "RkF37MN82e-t"
      },
      "source": [
        "<h3><strong><font color=\"#809BFF\">Задача №1</font></strong></h3>\n",
        "Заготовим ядро для свертки( оно же будет нашим фильтром).\n"
      ]
    },
    {
      "cell_type": "code",
      "source": [
        "img.shape\n"
      ],
      "metadata": {
        "colab": {
          "base_uri": "https://localhost:8080/"
        },
        "id": "TWVWfSHkBpk2",
        "outputId": "04778d31-9cdd-48aa-93b9-e18fa88c76ab"
      },
      "execution_count": null,
      "outputs": [
        {
          "output_type": "execute_result",
          "data": {
            "text/plain": [
              "(114, 98, 4)"
            ]
          },
          "metadata": {},
          "execution_count": 4
        }
      ]
    },
    {
      "cell_type": "code",
      "source": [
        "#место для кода\n",
        "kernel1 = [\n",
        "    [-1,0,1,1],\n",
        "    [-1,0,1,1],\n",
        "    [-1,0,1,1]\n",
        "]"
      ],
      "metadata": {
        "id": "qt1FCxHy5maH"
      },
      "execution_count": null,
      "outputs": []
    },
    {
      "cell_type": "markdown",
      "source": [
        "<h1><strong><font color=\"#FF732B\">Важные моменты</font></strong></h1>"
      ],
      "metadata": {
        "id": "RpNZoBQ0Cbkf"
      }
    },
    {
      "cell_type": "markdown",
      "source": [
        "<p><img src=\"https://u.foxford.ngcdn.ru/uploads/inner_file/file/139029/pad1.png\"></p>"
      ],
      "metadata": {
        "id": "OuJi8q4NBdZu"
      }
    },
    {
      "cell_type": "markdown",
      "source": [
        "<p><img src=\"https://u.foxford.ngcdn.ru/uploads/inner_file/file/139030/pad2.png\"></p>"
      ],
      "metadata": {
        "id": "fn5PSMYcBhfM"
      }
    },
    {
      "cell_type": "markdown",
      "source": [
        "<p><img src=\"https://u.foxford.ngcdn.ru/uploads/inner_file/file/139031/pad3.png\"></p>"
      ],
      "metadata": {
        "id": "87KFvmi2Bjbo"
      }
    },
    {
      "cell_type": "markdown",
      "source": [
        "<p><img src=\"https://u.foxford.ngcdn.ru/uploads/inner_file/file/139033/pad5.png\"></p>"
      ],
      "metadata": {
        "id": "e0eaOZfkBkZF"
      }
    },
    {
      "cell_type": "markdown",
      "source": [
        "<p><img src=\"https://u.foxford.ngcdn.ru/uploads/inner_file/file/139027/str1.png\"></p>"
      ],
      "metadata": {
        "id": "-t6IEj0D8hgZ"
      }
    },
    {
      "cell_type": "markdown",
      "source": [
        "<p><img src=\"https://u.foxford.ngcdn.ru/uploads/inner_file/file/139028/str2.png\"></p>"
      ],
      "metadata": {
        "id": "7v4-WdTb80mg"
      }
    },
    {
      "cell_type": "markdown",
      "metadata": {
        "id": "DKtQMXhwsjbY"
      },
      "source": [
        "<h3><strong><font color=\"#809BFF\">Задача №2</font></strong></h3>\n",
        "Напиши, как можно выполнить свертку (хотя бы самую простую)"
      ]
    },
    {
      "cell_type": "code",
      "source": [
        "# Важно, чтобы число каналов изображения и свертки были одинаковыми"
      ],
      "metadata": {
        "id": "viTEyee-9qDI"
      },
      "execution_count": null,
      "outputs": []
    },
    {
      "cell_type": "code",
      "source": [
        "#место для кода\n",
        "def convol(img,kernel,stride=1):\n",
        "# дублируем ось каналов\n",
        "  kernel = np.array(kernel)[:,:, np.newaxis]\n",
        "  tensor = np.tile(kernel,(1,1, img.shape[2]))\n",
        "  shape = tensor.shape\n",
        "# здесь храним результаты\n",
        "  result = np.zeros((img.shape[0], img.shape[1]))\n",
        "  row_border = tensor.shape[0]//2\n",
        "  col_border = tensor.shape[1]//2\n",
        "# цикл свертки с шагами по оси x и Y\n",
        "  step_i = 0\n",
        "  for i in range (0, img.shape[0]-shape[0] + 1, stride):\n",
        "    step_j = 0\n",
        "    for j in range (0, img.shape[1] -shape[1] +1, stride):\n",
        "#здесь свернули\n",
        "      convol_final = np.sum (tensor *img[i:i+shape[0], j:j+shape[1], :])\n",
        "#здесь поставили значения пикселей\n",
        "      convol_final = np.clip(convol_final, 0 ,255)\n",
        "#записываем итог\n",
        "      result[step_i, step_j] = convol_final\n",
        "      step_j +=1\n",
        "    step_i +=1\n",
        "  return result.astype('int16') # -чтобы пиксели были целыми"
      ],
      "metadata": {
        "id": "sAP1OeDO-Q43"
      },
      "execution_count": null,
      "outputs": []
    },
    {
      "cell_type": "markdown",
      "metadata": {
        "id": "TVofE-7msm7P"
      },
      "source": [
        "<h3><strong><font color=\"#809BFF\">Задача №3</font></strong></h3>\n",
        "Отобрази результат применения фильтра ниже."
      ]
    },
    {
      "cell_type": "code",
      "source": [
        "#место для кода\n",
        "CNN_1 = convol(img, kernel1, stride=1)\n",
        "\n",
        "plt.figure(figsize=(7,7))\n",
        "plt.imshow(CNN_1,cmap='gray')"
      ],
      "metadata": {
        "id": "iBFNlmbfBxja",
        "colab": {
          "base_uri": "https://localhost:8080/",
          "height": 620
        },
        "outputId": "501dae2e-7cb1-4ba4-dd58-0edffb013233"
      },
      "execution_count": null,
      "outputs": [
        {
          "output_type": "execute_result",
          "data": {
            "text/plain": [
              "<matplotlib.image.AxesImage at 0x7b355d154eb0>"
            ]
          },
          "metadata": {},
          "execution_count": 11
        },
        {
          "output_type": "display_data",
          "data": {
            "text/plain": [
              "<Figure size 700x700 with 1 Axes>"
            ],
            "image/png": "[encoded data removed]"
          },
          "metadata": {}
        }
      ]
    },
    {
      "cell_type": "markdown",
      "source": [
        "<h3><strong><font color=\"#809BFF\">Задача №4</font></strong></h3>\n",
        "Поменяй фильтр и проверь, что произойдет."
      ],
      "metadata": {
        "id": "FutTGo77HRdT"
      }
    },
    {
      "cell_type": "code",
      "source": [
        "#место для кода\n"
      ],
      "metadata": {
        "id": "qFp8GHpAtHjq"
      },
      "execution_count": null,
      "outputs": []
    },
    {
      "cell_type": "markdown",
      "source": [
        "<h3><strong><font color=\"#809BFF\">Задача №5</font></strong></h3>\n",
        "Посмотрим, что получилось теперь."
      ],
      "metadata": {
        "id": "HwlqhUWnHTeA"
      }
    },
    {
      "cell_type": "code",
      "source": [
        "#место для кода\n"
      ],
      "metadata": {
        "id": "ULpHo-ODEryG"
      },
      "execution_count": null,
      "outputs": []
    },
    {
      "cell_type": "markdown",
      "source": [
        "<h3><strong><font color=\"#809BFF\">Задача №6</font></strong></h3>\n",
        "Попробуем сделать более яркими и четкими белые линии! Как это сделать? Чтобы понять это, присмотрись, в свои фильтры. Там есть некая закономерность."
      ],
      "metadata": {
        "id": "HdcsicrVHV7u"
      }
    },
    {
      "cell_type": "code",
      "source": [
        "#место для кода\n"
      ],
      "metadata": {
        "id": "ZnrigYehQqZv"
      },
      "execution_count": null,
      "outputs": []
    },
    {
      "cell_type": "markdown",
      "source": [],
      "metadata": {
        "id": "kGxCmPKOFQdO"
      }
    },
    {
      "cell_type": "markdown",
      "metadata": {
        "id": "Uh6HXBt-U9eA"
      },
      "source": [
        "<p><img src=\"https://u.foxford.ngcdn.ru/uploads/inner_file/file/107344/hmmmmm.png\" width = 12%></p>"
      ]
    },
    {
      "cell_type": "markdown",
      "source": [
        "<h3><strong><font color=\"#809BFF\">Задача №7</font></strong></h3>\n",
        "Попробуй поиграть с фильтрами: 1. Измени ядро, так чтобы края были более выделенными. 2. Сделай изображение более резким. 3.Сделай резкость более четкой, увеличив ядро. 4. Сделай размытие картинки."
      ],
      "metadata": {
        "id": "9nwbAzr4fZt0"
      }
    },
    {
      "cell_type": "code",
      "source": [],
      "metadata": {
        "id": "rVxUTPO3fW3q"
      },
      "execution_count": null,
      "outputs": []
    },
    {
      "cell_type": "code",
      "source": [],
      "metadata": {
        "id": "eMw3JI7x9ogi"
      },
      "execution_count": null,
      "outputs": []
    },
    {
      "cell_type": "markdown",
      "source": [
        "<h1><strong><font color=\"#FC4262\">Домашняя работа</font></strong></h1>"
      ],
      "metadata": {
        "id": "N4Pqbj8qCxEl"
      }
    },
    {
      "cell_type": "markdown",
      "source": [
        "Вот несколько шагов, чтобы настроить удобную работу над домашними задачами:\n",
        "\n",
        "1. В сервисе [Google Drive](https://www.google.com/intl/ru/drive/) создай папку `foxford_ds_study` (если еще этого не сделал), в которой ты будешь хранить все учебные материалы с этого курса.\n",
        "2. Сохрани копию этой тетрадки `Лекция №18.ipynb` *(File → Save a copy in Drive)* в папку `foxford_ds_study`.\n",
        "\n",
        "Зачем это нужно?\n",
        "\n",
        "Файл, в котором работает преподаватель — это «оригинальный» файл и мы не можем работать в нем все вместе, ведь у каждого свой код! Каждому ученику необходимо сделать свою копию файла и выполнять домашку именно в ней. Если хочешь, ты можешь назвать свой файл по имени, например, `Лекция №18 Иван Кнопочкин.ipynb`.\n",
        "\n",
        "В начале следующей лекции мы обсудим эти задачи вместе."
      ],
      "metadata": {
        "id": "v8V8bdweC1PD"
      }
    },
    {
      "cell_type": "markdown",
      "source": [
        "<h3><strong><font color=\"#809BFF\">Задача №8</font></strong></h3>\n",
        "\n",
        "Закомментируй код преподавателя из всех заданий, которые были на занятии."
      ],
      "metadata": {
        "id": "EhRm1ahFC7N7"
      }
    }
  ],
  "metadata": {
    "colab": {
      "provenance": [],
      "include_colab_link": true
    },
    "kernelspec": {
      "display_name": "Python 3",
      "name": "python3"
    },
    "language_info": {
      "name": "python"
    }
  },
  "nbformat": 4,
  "nbformat_minor": 0
}