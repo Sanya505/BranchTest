{
  "nbformat": 4,
  "nbformat_minor": 0,
  "metadata": {
    "colab": {
      "provenance": [],
      "include_colab_link": true
    },
    "kernelspec": {
      "name": "python3",
      "display_name": "Python 3"
    },
    "language_info": {
      "name": "python"
    }
  },
  "cells": [
    {
      "cell_type": "markdown",
      "metadata": {
        "id": "view-in-github",
        "colab_type": "text"
      },
      "source": [
        "<a href=\"https://colab.research.google.com/github/Sanya505/BranchTest/blob/main/%D0%9A%D0%BE%D1%80%D0%BE%D1%82%D0%BA%D0%BE%D0%B2%D0%B0_%D0%9B%D0%B5%D0%BA%D1%86%D0%B8%D1%8F_%E2%84%965.ipynb\" target=\"_parent\"><img src=\"https://colab.research.google.com/assets/colab-badge.svg\" alt=\"Open In Colab\"/></a>"
      ]
    },
    {
      "cell_type": "markdown",
      "metadata": {
        "id": "goKCGXSUoln1"
      },
      "source": [
        "<p><img src=\"\thttps://u.foxford.ngcdn.ru/uploads/inner_file/file/138554/lec5.jpg\"></p>"
      ]
    },
    {
      "cell_type": "markdown",
      "metadata": {
        "id": "fTAUCMGRqM75"
      },
      "source": [
        "___\n",
        "\n",
        "<font color=\"#000000\">Основы Python и глубокого обучения</font>\n",
        "<font color=\"#AEBAC5\"> → </font>\n",
        "<font color=\"#AEBAC5\">Компьютерное зрение (CV)</font>\n",
        "<font color=\"#AEBAC5\"> → </font>\n",
        "<font color=\"#AEBAC5\">Обработка естественного языка (NLP)</font>\n",
        "\n",
        "___"
      ]
    },
    {
      "cell_type": "markdown",
      "metadata": {
        "id": "V5fqY6dZVxEY"
      },
      "source": [
        "<h1><strong><font color=\"#FF732B\">Matplotlib</font></strong></h1>"
      ]
    },
    {
      "cell_type": "markdown",
      "metadata": {
        "id": "Z9icFdKYwU9X"
      },
      "source": [
        "<p><img src=\"https://u.foxford.ngcdn.ru/uploads/inner_file/file/138559/13p.png\"></p>"
      ]
    },
    {
      "cell_type": "code",
      "source": [
        "import matplotlib.pyplot as plt\n",
        "%matplotlib inline"
      ],
      "metadata": {
        "id": "OUEFhky8rnSE"
      },
      "execution_count": null,
      "outputs": []
    },
    {
      "cell_type": "code",
      "metadata": {
        "id": "x3TkH5yTWXLU"
      },
      "source": [
        "plt.plot([0, 1, 2], [0, 2, 1])\n",
        "plt.plot([0, 3, 0.5, 1.6],[1, 1.5, 2, 2.5])\n",
        "plt.show()"
      ],
      "execution_count": null,
      "outputs": []
    },
    {
      "cell_type": "markdown",
      "metadata": {
        "id": "5WiAdBc3V-7x"
      },
      "source": [
        "<h3><strong><font color=\"#809BFF\">Задача №1</font></strong></h3>\n",
        "\n",
        "Попробуй построить треугольник, задав размеры изображения при помощи figsize."
      ]
    },
    {
      "cell_type": "code",
      "source": [
        "plt.figure(figsize=(...,...))\n",
        "plt.plot([...],[...])\n",
        "plt.show()"
      ],
      "metadata": {
        "id": "MHoD8qJ5tVyp"
      },
      "execution_count": null,
      "outputs": []
    },
    {
      "cell_type": "markdown",
      "metadata": {
        "id": "v_34-uok1iyt"
      },
      "source": [
        "<h3><strong><font color=\"#809BFF\">Задача №2</font></strong></h3>\n",
        "\n",
        "Представь график, где будет показано, что цены на футбольный матч росли в зависимости от приближения даты соревнований.Соревнования назначены на 5 число.С каждым днем цена увеличивалась на 2 рубля. Старт продаж - 1 число.\n",
        "Но 3 числа, был спад на 2 рубля, но на 4 дней цена выросла как за 2 дня."
      ]
    },
    {
      "cell_type": "code",
      "metadata": {
        "id": "o_3zPjU42aVI"
      },
      "source": [
        "x = [...]\n",
        "y = [...]\n",
        "z = ...]\n",
        "plt.plot(z,label='цена билетов')\n",
        "plt.title(\"цена билетов\")\n",
        "plt.xlabel(\"...\")\n",
        "plt.ylabel(\"...\")\n",
        "plt.legend()\n",
        "plt.grid(True)"
      ],
      "execution_count": null,
      "outputs": []
    },
    {
      "cell_type": "markdown",
      "metadata": {
        "id": "WfTzt_ziodk3"
      },
      "source": [
        "<h3><strong><font color=\"#809BFF\">Задача №3</font></strong></h3>\n",
        "Измени график цен: 1. Исправь синий цвет на красный (в функции plot задаются все параметры, отвечающие за изображение графика). Цвет - это color.\n",
        "2.Стиль линии измени на пунктир \"--\""
      ]
    },
    {
      "cell_type": "code",
      "metadata": {
        "id": "oz1PbL2aookW"
      },
      "source": [
        "#место для кода"
      ],
      "execution_count": null,
      "outputs": []
    },
    {
      "cell_type": "markdown",
      "metadata": {
        "id": "D7voNE64o3Ul"
      },
      "source": [
        "<h3><strong><font color=\"#809BFF\">Задача №4</font></strong></h3>\n",
        "\n",
        "Согласно рейтингу клуба УЕФА 2020/2021:\n",
        "\n",
        "1. клуб Бавария, его рейтинг 134.0\n",
        "2. Реал Мадрид, рейтинг 127.0\n",
        "3. Манчестер Сити, рейтинг 125.0\n",
        "4. Барселона, рейтинг 122.0\n",
        "5. Ювентус, рейтинг 120.0\n",
        "Представь этот график в виде круговой диаграммы."
      ]
    },
    {
      "cell_type": "code",
      "metadata": {
        "id": "VgMkhUKMpDc_"
      },
      "source": [
        "# названия\n",
        "...\n",
        "#  значения\n",
        "...\n",
        "# выделяем команду-лидера\n",
        "...\n",
        "# создаем объект подграфика и ось с данными и подписями\n",
        "...\n",
        "# добавим тени\n",
        "...\n",
        "# задаем название всего графика\n",
        "...\n",
        "# отображаем\n",
        "..."
      ],
      "execution_count": null,
      "outputs": []
    },
    {
      "cell_type": "markdown",
      "metadata": {
        "id": "9h_PuJAYplGo"
      },
      "source": [
        "<h1><strong><font color=\"#FF732B\">Numpy</font></strong></h1>"
      ]
    },
    {
      "cell_type": "markdown",
      "source": [
        "<p><img src=\"https://u.foxford.ngcdn.ru/uploads/inner_file/file/138603/Num.png\"></p>"
      ],
      "metadata": {
        "id": "3iaoChF2jt6C"
      }
    },
    {
      "cell_type": "code",
      "source": [
        "import numpy as np"
      ],
      "metadata": {
        "id": "H2jq3ENbzJaU"
      },
      "execution_count": null,
      "outputs": []
    },
    {
      "cell_type": "code",
      "source": [
        "#Массивы - главный объект numpy\n",
        "fox = np.array([[1, 2, 3], [4, 5, 6]], float)\n",
        "print(fox, '|', type(fox))"
      ],
      "metadata": {
        "id": "bcan8IJNzsVS"
      },
      "execution_count": null,
      "outputs": []
    },
    {
      "cell_type": "markdown",
      "source": [
        "<h3><strong><font color=\"#809BFF\">Задача №5</font></strong></h3>\n",
        "\n",
        "Можно проводить такие же манипуляции, как и с обычными списками. Давай проверим: 1)попробуй вырезать 2 элемент. 2) Вырежи первый элемент.3) создай многомерный массив. 4) сделай слайсинг 1 массива с шагом 2."
      ],
      "metadata": {
        "id": "ZgJu5Zd8kdVs"
      }
    },
    {
      "cell_type": "code",
      "source": [
        "#место для кода\n"
      ],
      "metadata": {
        "id": "RgmmCrzyzc5o"
      },
      "execution_count": null,
      "outputs": []
    },
    {
      "cell_type": "markdown",
      "source": [
        "<h1><strong><font color=\"#FF732B\">Shape</font></strong></h1>"
      ],
      "metadata": {
        "id": "oFnDkKeO0RbP"
      }
    },
    {
      "cell_type": "code",
      "source": [
        "b = np.array([[1, 2, 3], [4, 5, 6], [4, 5, 6], [4, 5, 6]])\n",
        "b.shape"
      ],
      "metadata": {
        "id": "qCBKdcRU0VtX"
      },
      "execution_count": null,
      "outputs": []
    },
    {
      "cell_type": "markdown",
      "source": [
        "<h1><strong><font color=\"#FF732B\">Reshape</font></strong></h1>"
      ],
      "metadata": {
        "id": "EHdzjfsx0aeo"
      }
    },
    {
      "cell_type": "markdown",
      "source": [
        "<p><img src=\"https://u.foxford.ngcdn.ru/uploads/inner_file/file/138605/peahape.png\"></p>"
      ],
      "metadata": {
        "id": "OSMSLeoroHCZ"
      }
    },
    {
      "cell_type": "markdown",
      "source": [
        "<h3><strong><font color=\"#809BFF\">Задача №6</font></strong></h3>\n",
        "\n",
        "Создай массив из 100 элементов (от 1 до 100), переформатируй его в формат 10*10 и сделай слайсинг с шагом 2 по каждой оси. То есть по горизонтали: 1,3,5...., по вертикали: 1,21,41 и т.д."
      ],
      "metadata": {
        "id": "X-8LCXlclfsP"
      }
    },
    {
      "cell_type": "code",
      "source": [
        "#место для кода"
      ],
      "metadata": {
        "id": "JfUQWd6Bl15h"
      },
      "execution_count": null,
      "outputs": []
    },
    {
      "cell_type": "markdown",
      "metadata": {
        "id": "wSbNt6efpKLm"
      },
      "source": [
        "<h3><strong><font color=\"#809BFF\">Задача №7</font></strong></h3>\n",
        "\n",
        "Давай сравним эффективность NumPy и обычные функции Python. Напиши функцию, которая вычисляет среднее арифметическое по заданной длине последовательности. Напиши два варианта (с NumPy и без), сравни время выполнения."
      ]
    },
    {
      "cell_type": "code",
      "metadata": {
        "id": "GgBSntJspdmL"
      },
      "source": [
        "# numpy\n",
        "# для оценки времени оставь эту строку\n",
        "%%time\n",
        "# длина последовательности\n",
        "from datetime import datetime\n",
        "\n",
        "length = 150_000_000\n"
      ],
      "execution_count": null,
      "outputs": []
    },
    {
      "cell_type": "markdown",
      "metadata": {
        "id": "chqxQb3Fq5OQ"
      },
      "source": [
        "<h1><strong><font color=\"#FF732B\">Pandas</font></strong></h1>"
      ]
    },
    {
      "cell_type": "markdown",
      "source": [
        "<p><img src=\"https://u.foxford.ngcdn.ru/uploads/inner_file/file/138606/pandas.png\"></p>"
      ],
      "metadata": {
        "id": "XSbIZoD0roxV"
      }
    },
    {
      "cell_type": "code",
      "source": [
        "import pandas as pd"
      ],
      "metadata": {
        "id": "R4wMibYMpoGp"
      },
      "execution_count": null,
      "outputs": []
    },
    {
      "cell_type": "code",
      "source": [
        "#series\n",
        "l=[1,3,5,np.nan,6,8]\n",
        "s=pd.Series(l)\n",
        "s"
      ],
      "metadata": {
        "id": "nAlCqHZyprsg"
      },
      "execution_count": null,
      "outputs": []
    },
    {
      "cell_type": "code",
      "source": [
        "#индексация аналогична:\n",
        "s[2]"
      ],
      "metadata": {
        "id": "Mwd43tmXp0h-"
      },
      "execution_count": null,
      "outputs": []
    },
    {
      "cell_type": "code",
      "source": [
        "s[2]=7\n",
        "s"
      ],
      "metadata": {
        "id": "YaMjq8cxp1eg"
      },
      "execution_count": null,
      "outputs": []
    },
    {
      "cell_type": "code",
      "source": [
        "s[2:5]"
      ],
      "metadata": {
        "id": "r3Tstn9Ap2eM"
      },
      "execution_count": null,
      "outputs": []
    },
    {
      "cell_type": "code",
      "source": [
        "s1=s[1:]\n",
        "s1"
      ],
      "metadata": {
        "id": "Hzuq9jhtp34m"
      },
      "execution_count": null,
      "outputs": []
    },
    {
      "cell_type": "code",
      "source": [
        "s2=s[:-1]\n",
        "s2"
      ],
      "metadata": {
        "id": "RJV4LFWGp5Lo"
      },
      "execution_count": null,
      "outputs": []
    },
    {
      "cell_type": "code",
      "source": [
        "# К наборам данных можно применять функции из numpy\n",
        "np.exp(s)"
      ],
      "metadata": {
        "id": "fDjt4Vhtp932"
      },
      "execution_count": null,
      "outputs": []
    },
    {
      "cell_type": "code",
      "source": [
        "#Операции сравнения возвращают наборы булевых данных\n",
        "s>0"
      ],
      "metadata": {
        "id": "tahhCaeAqLLQ"
      },
      "execution_count": null,
      "outputs": []
    },
    {
      "cell_type": "code",
      "source": [
        "#Если такой булев набор использовать для индексации, получится поднабор только из тех данных, для которых условие есть True.\n",
        "s[s>0]"
      ],
      "metadata": {
        "id": "xKSJEiMhqPM2"
      },
      "execution_count": null,
      "outputs": []
    },
    {
      "cell_type": "markdown",
      "source": [
        "<p><img src=\"https://u.foxford.ngcdn.ru/uploads/inner_file/file/138607/df.png\"></p>"
      ],
      "metadata": {
        "id": "UQ94tE5VtPZJ"
      }
    },
    {
      "cell_type": "markdown",
      "source": [
        "<h3><strong><font color=\"#809BFF\">Задача №8</font></strong></h3>\n",
        "\n",
        "Создадим игрушечный датафрейм из 2-х колонок и нескольких строк."
      ],
      "metadata": {
        "id": "7sfk71s3xadv"
      }
    },
    {
      "cell_type": "code",
      "source": [
        "#место для кода"
      ],
      "metadata": {
        "id": "WHkkqvDQqTbz"
      },
      "execution_count": null,
      "outputs": []
    },
    {
      "cell_type": "code",
      "source": [
        "#полезная информация о датафрейме\n",
        "df.describe()"
      ],
      "metadata": {
        "id": "YpVzpETspxdm"
      },
      "execution_count": null,
      "outputs": []
    },
    {
      "cell_type": "code",
      "source": [
        "#К таблице можно добавлять новые столбцы.\n",
        "df['колонка 4']=df['колонка 1']*df['колонка2']\n",
        "df['flag']=df['колонка2']>2\n",
        "df"
      ],
      "metadata": {
        "id": "XL4yzF8Sqoce"
      },
      "execution_count": null,
      "outputs": []
    },
    {
      "cell_type": "markdown",
      "source": [
        "<h3><strong><font color=\"#809BFF\">Задача №9</font></strong></h3>\n",
        "\n",
        "Удалим \"колонку 2\" и создадим \"колонка 4\" со значениями \"0.\" во всех строках. Что нужно записать?"
      ],
      "metadata": {
        "id": "T5NlYRw7zeIC"
      }
    },
    {
      "cell_type": "code",
      "source": [
        "#место для кода"
      ],
      "metadata": {
        "id": "FE5T3neCzLEf"
      },
      "execution_count": null,
      "outputs": []
    },
    {
      "cell_type": "markdown",
      "metadata": {
        "id": "eHFZOhnVrZkG"
      },
      "source": [
        "<h1><strong><font color=\"#FF732B\">Исследование данных</font></strong></h1>"
      ]
    },
    {
      "cell_type": "code",
      "source": [
        "!wget https://web.stanford.edu/class/archive/cs/cs109/cs109.1166/stuff/titanic.csv"
      ],
      "metadata": {
        "id": "ecYfaHWmqyvF",
        "colab": {
          "base_uri": "https://localhost:8080/"
        },
        "outputId": "6511053e-7a8b-4362-ba87-7020c9cf451f"
      },
      "execution_count": null,
      "outputs": [
        {
          "output_type": "stream",
          "name": "stdout",
          "text": [
            "--2023-10-13 11:18:51--  https://web.stanford.edu/class/archive/cs/cs109/cs109.1166/stuff/titanic.csv\n",
            "Resolving web.stanford.edu (web.stanford.edu)... 171.67.215.200, 2607:f6d0:0:925a::ab43:d7c8\n",
            "Connecting to web.stanford.edu (web.stanford.edu)|171.67.215.200|:443... connected.\n",
            "HTTP request sent, awaiting response... 200 OK\n",
            "Length: 44225 (43K) [text/csv]\n",
            "Saving to: ‘titanic.csv’\n",
            "\n",
            "titanic.csv         100%[===================>]  43.19K  --.-KB/s    in 0.1s    \n",
            "\n",
            "2023-10-13 11:18:51 (299 KB/s) - ‘titanic.csv’ saved [44225/44225]\n",
            "\n"
          ]
        }
      ]
    },
    {
      "cell_type": "code",
      "source": [
        "!ls"
      ],
      "metadata": {
        "id": "v0HkokP_q95B",
        "colab": {
          "base_uri": "https://localhost:8080/"
        },
        "outputId": "eb8d1556-88b2-4dbc-c198-81ab47e8d750"
      },
      "execution_count": null,
      "outputs": [
        {
          "output_type": "stream",
          "name": "stdout",
          "text": [
            "sample_data  titanic.csv\n"
          ]
        }
      ]
    },
    {
      "cell_type": "markdown",
      "metadata": {
        "id": "2ueHDI6TNner"
      },
      "source": [
        "<h3><strong><font color=\"#809BFF\">Задача №10</font></strong></h3>\n",
        "\n",
        "Выведи на экран первые (head) и последние(tail) пять строк  датасета."
      ]
    },
    {
      "cell_type": "code",
      "source": [
        "#место для кода\n"
      ],
      "metadata": {
        "id": "8-vhCQu8rC0z"
      },
      "execution_count": null,
      "outputs": []
    },
    {
      "cell_type": "code",
      "source": [
        "#место для кода"
      ],
      "metadata": {
        "id": "CBGiG2Kfss8x"
      },
      "execution_count": null,
      "outputs": []
    },
    {
      "cell_type": "markdown",
      "source": [
        "<h3><strong><font color=\"#809BFF\">Задача №11</font></strong></h3>\n",
        "\n",
        "Давай выберем 2 столбца: \"Name\" и \"Survived\" и выведем сокращенный датафрейм."
      ],
      "metadata": {
        "id": "nrYE4cq51jZG"
      }
    },
    {
      "cell_type": "code",
      "source": [
        "#место для кода"
      ],
      "metadata": {
        "id": "g2j_jASRrMrx"
      },
      "execution_count": null,
      "outputs": []
    },
    {
      "cell_type": "code",
      "source": [
        "data.columns # все колонки"
      ],
      "metadata": {
        "id": "6nXzp9h9rP2h"
      },
      "execution_count": null,
      "outputs": []
    },
    {
      "cell_type": "markdown",
      "source": [
        "<h1><strong><font color=\"#FF732B\">Полезная информация</font></strong></h1>"
      ],
      "metadata": {
        "id": "mkYs_7pFrVES"
      }
    },
    {
      "cell_type": "markdown",
      "source": [
        "<h3><strong><font color=\"#809BFF\">Задача №12</font></strong></h3>\n",
        "Попробуем сделать фильтр: найти пассажиров, которым более 60 лет и которые ехали 1-м классом."
      ],
      "metadata": {
        "id": "mLB4hLiJ2gco"
      }
    },
    {
      "cell_type": "code",
      "source": [
        "#место для кода"
      ],
      "metadata": {
        "id": "cHuFoRYSrWrT"
      },
      "execution_count": null,
      "outputs": []
    },
    {
      "cell_type": "code",
      "source": [
        "#проверим размеры датафрейма\n",
        "data.shape"
      ],
      "metadata": {
        "id": "km3U9ekBrX6n"
      },
      "execution_count": null,
      "outputs": []
    },
    {
      "cell_type": "code",
      "source": [
        "#проверим типы данных\n",
        "data.dtypes"
      ],
      "metadata": {
        "id": "2JFl5nnBrZu-"
      },
      "execution_count": null,
      "outputs": []
    },
    {
      "cell_type": "code",
      "source": [
        "# узнаем сводные данные\n",
        "data.describe()"
      ],
      "metadata": {
        "id": "QFlFoq1prglT"
      },
      "execution_count": null,
      "outputs": []
    },
    {
      "cell_type": "markdown",
      "source": [
        "<h3><strong><font color=\"#809BFF\">Задача №13</font></strong></h3>\n",
        "Посмотрим на данные столбца \"Pclass\" через график."
      ],
      "metadata": {
        "id": "ow3sn7qL3Suu"
      }
    },
    {
      "cell_type": "code",
      "source": [
        "#место для кода"
      ],
      "metadata": {
        "id": "s6pZFqzZrnpk"
      },
      "execution_count": null,
      "outputs": []
    },
    {
      "cell_type": "code",
      "source": [
        "#удалим возможные повторения\n",
        "data.drop_duplicates()"
      ],
      "metadata": {
        "id": "Ooi0Bwql5WvO"
      },
      "execution_count": null,
      "outputs": []
    },
    {
      "cell_type": "markdown",
      "metadata": {
        "id": "i7KImah_EBVy"
      },
      "source": [
        "<h1><strong><font color=\"#FC4262\">Домашняя работа</font></strong></h1>"
      ]
    },
    {
      "cell_type": "markdown",
      "metadata": {
        "id": "BdNn502i2vTz"
      },
      "source": [
        "Вот несколько шагов, чтобы настроить удобную работу над домашними задачами:\n",
        "\n",
        "1. В сервисе [Google Drive](https://www.google.com/intl/ru/drive/) создай папку `foxford_ds_study` (если еще этого не сделал), в которой ты будешь хранить все учебные материалы с этого курса.\n",
        "2. Сохрани копию этой тетрадки `Лекция №5.ipynb` *(File → Save a copy in Drive)* в папку `foxford_ds_study`.\n",
        "\n",
        "Зачем это нужно?\n",
        "\n",
        "Файл, в котором работает преподаватель — это «оригинальный» файл и мы не можем работать в нем все вместе, ведь у каждого свой код! Каждому ученику необходимо сделать свою копию файла и выполнять домашку именно в ней. Если хочешь, ты можешь назвать свой файл по имени, например, `Лекция №5 Иван Кнопочкин.ipynb`.\n",
        "\n",
        "В начале следующей лекции мы обсудим эти задачи вместе."
      ]
    },
    {
      "cell_type": "markdown",
      "source": [
        "<h3><strong><font color=\"#809BFF\">Задача №14</font></strong></h3>\n",
        "Выведи на график данные колонки \"Survived\"."
      ],
      "metadata": {
        "id": "3NHBSXW337DW"
      }
    },
    {
      "cell_type": "code",
      "source": [
        "#место для кода"
      ],
      "metadata": {
        "id": "n_abNkNTrpGF"
      },
      "execution_count": null,
      "outputs": []
    },
    {
      "cell_type": "markdown",
      "source": [
        "<h3><strong><font color=\"#809BFF\">Задача №15</font></strong></h3>\n",
        "Выведи на графиках данные двух колонок \"Survived\" и \"Age\"."
      ],
      "metadata": {
        "id": "zTWAjNKv4GB0"
      }
    },
    {
      "cell_type": "code",
      "source": [
        "#место для кода"
      ],
      "metadata": {
        "id": "MUgE8FCP5Omd"
      },
      "execution_count": null,
      "outputs": []
    },
    {
      "cell_type": "markdown",
      "source": [
        "<h3><strong><font color=\"#809BFF\">Задача №16</font></strong></h3>\n",
        "Попробуй вывести на графике зависимость колонок \"Sex\" и \"Survived\".  "
      ],
      "metadata": {
        "id": "P9rABkwH4WGW"
      }
    },
    {
      "cell_type": "code",
      "source": [
        "data[[...]].groupby('...').mean().plot.bar()"
      ],
      "metadata": {
        "id": "bzAsa63fruxB"
      },
      "execution_count": null,
      "outputs": []
    }
  ]
}